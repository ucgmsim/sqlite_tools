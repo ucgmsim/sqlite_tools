{
 "cells": [
  {
   "cell_type": "markdown",
   "id": "67ac6123",
   "metadata": {},
   "source": [
    "# Using `sqlite_tools` to Query Our SQLite database containing our copy of the NZGD\n",
    "\n",
    "This notebook demonstrates how to interact with our SQLite database containing our copy of the NZGD. We'll cover:\n",
    "1.  Connecting to an SQLite database.\n",
    "2.  Basic SQLite query structure.\n",
    "3.  Using the functions provided in the `sqlite_tools.query` module to extract specific data."
   ]
  },
  {
   "cell_type": "markdown",
   "id": "ee4961a2",
   "metadata": {},
   "source": [
    "## 1. Accessing SQLite Database from Python\n",
    "\n",
    "Python's built-in `sqlite3` module allows us to connect to and interact with SQLite \n",
    "databases, so we import it, along with other required libraries."
   ]
  },
  {
   "cell_type": "code",
   "execution_count": 1,
   "id": "1a487a15",
   "metadata": {},
   "outputs": [],
   "source": [
    "import sqlite3\n",
    "from pathlib import Path\n",
    "\n",
    "from sqlite_tools import query"
   ]
  },
  {
   "cell_type": "markdown",
   "id": "d88de7e5",
   "metadata": {},
   "source": [
    "Next, specify the path to your SQLite database file. **Remember to replace `\"/path/to/your/nzgd_database.db\"` with the actual path to your database file.**"
   ]
  },
  {
   "cell_type": "code",
   "execution_count": null,
   "id": "aac68f2f",
   "metadata": {},
   "outputs": [
    {
     "name": "stdout",
     "output_type": "stream",
     "text": [
      "Successfully connected to /home/arr65/data/nzgd/extracted_nzgd_data_until_8_Nov_2024_termination_reason.db\n"
     ]
    }
   ],
   "source": [
    "# Define the path to your SQLite database\n",
    "# !!! IMPORTANT: Replace this with the actual path to your database file !!!\n",
    "db_file_path = Path(\"/path/to/your/nzgd_database.db\")\n",
    "\n",
    "# Establish a database connection\n",
    "conn = sqlite3.connect(db_file_path)\n",
    "print(f\"Successfully connected to {db_file_path}\")\n",
    "\n",
    "# Note: The connection `conn` will be used in subsequent cells.\n",
    "# We will close it at the end of the notebook."
   ]
  },
  {
   "cell_type": "markdown",
   "id": "9214e59d",
   "metadata": {},
   "source": [
    "## 2. Understanding SQLite Query Structure\n",
    "\n",
    "SQL (Structured Query Language) is used to communicate with databases. SQLite uses a dialect of SQL. Here are some common clauses:\n",
    "\n",
    "*   **`SELECT column1, column2, ... FROM table_name`**: This is the most fundamental clause. It retrieves specified columns from a table.\n",
    "    *   `SELECT * FROM table_name` selects all columns.\n",
    "*   **`WHERE condition`**: Filters records based on a specific condition. \n",
    "    *   Example: `WHERE age > 30` or `WHERE name = 'Alice'`.\n",
    "*   **`JOIN another_table ON table_name.column_name = another_table.column_name`**: Combines rows from two or more tables based on a related column between them.\n",
    "    *   Common types: `INNER JOIN` (default), `LEFT JOIN`.\n",
    "*   **`ORDER BY column_name [ASC|DESC]`**: Sorts the result set by one or more columns, either in ascending (`ASC`, default) or descending (`DESC`) order.\n",
    "*   **`LIMIT number`**: Restricts the number of rows returned by the query.\n",
    "*   **`GROUP BY column_name`**: Groups rows that have the same values in specified columns into summary rows. Often used with aggregate functions like `COUNT()`, `MAX()`, `MIN()`, `SUM()`, `AVG()`.\n",
    "\n",
    "**Example of a more complex query structure:**\n",
    "\n",
    "```sql\n",
    "SELECT \n",
    "    t1.columnA, \n",
    "    t2.columnB, \n",
    "    COUNT(t1.id) as item_count\n",
    "FROM \n",
    "    table1 AS t1\n",
    "INNER JOIN \n",
    "    table2 AS t2 ON t1.common_id = t2.common_id\n",
    "WHERE \n",
    "    t1.status = 'active' AND t2.category = 'electronics'\n",
    "GROUP BY \n",
    "    t1.columnA, t2.columnB\n",
    "ORDER BY \n",
    "    item_count DESC\n",
    "LIMIT 10;\n",
    "```\n",
    "This query selects data from `table1` and `table2`, filters it, groups it, counts items, orders the result, and limits it to the top 10."
   ]
  },
  {
   "cell_type": "markdown",
   "id": "e1a7f5be",
   "metadata": {},
   "source": [
    "## 3. Using Functions from `sqlite_tools.query`\n",
    "\n",
    "The `sqlite_tools` package provides functions to easily extract some data. These functions encapsulate SQL queries.\n",
    "\n",
    "**Ensure your database connection (`conn`) is active from Cell 2.**"
   ]
  },
  {
   "cell_type": "markdown",
   "id": "c890fbc6",
   "metadata": {},
   "source": [
    "### Example 1: Get measurements for a specific CPT using its NZGD ID"
   ]
  },
  {
   "cell_type": "code",
   "execution_count": null,
   "id": "2a604e41",
   "metadata": {},
   "outputs": [],
   "source": [
    "nzgd_id_for_cpt = 1 \n",
    "\n",
    "if conn:\n",
    "    cpt_df = query.cpt_measurements_for_one_nzgd(selected_nzgd_id=nzgd_id_for_cpt, conn=conn)\n",
    "    if not cpt_df.empty:\n",
    "        display(cpt_df.head())\n",
    "    else:\n",
    "        print(f\"No CPT measurements found for NZGD ID {nzgd_id_for_cpt}.\")\n",
    "else:\n",
    "    print(\"Database connection is not established.\")"
   ]
  },
  {
   "cell_type": "markdown",
   "id": "4b43d2ec",
   "metadata": {},
   "source": [
    "### Example 2: Get measurements for a specific SPT using its NZGD ID"
   ]
  },
  {
   "cell_type": "code",
   "execution_count": null,
   "id": "96fbe208",
   "metadata": {},
   "outputs": [],
   "source": [
    "nzgd_id_for_spt = 14810\n",
    "\n",
    "if conn:\n",
    "    spt_df = query.spt_measurements_for_one_nzgd(selected_nzgd_id=nzgd_id_for_spt, conn=conn)\n",
    "    if not spt_df.empty:\n",
    "        display(spt_df.head())\n",
    "    else:\n",
    "        print(f\"No SPT measurements found for NZGD ID {nzgd_id_for_spt}.\")\n",
    "else:\n",
    "    print(\"Database connection is not established.\")"
   ]
  },
  {
   "cell_type": "markdown",
   "id": "ca4056bc",
   "metadata": {},
   "source": [
    "### Example 3: Get Soil Type measurements for a specific SPT using its NZGD ID"
   ]
  },
  {
   "cell_type": "code",
   "execution_count": null,
   "id": "e10890a6",
   "metadata": {},
   "outputs": [],
   "source": [
    "nzgd_id_for_spt_soil = 14810\n",
    "\n",
    "if conn:\n",
    "    spt_soil_df = query.spt_soil_types_for_one_nzgd(selected_nzgd_id=nzgd_id_for_spt_soil, conn=conn)\n",
    "    if not spt_soil_df.empty:\n",
    "        display(spt_soil_df.head())\n",
    "    else:\n",
    "        print(f\"No SPT soil types found for NZGD ID {nzgd_id_for_spt_soil}.\")\n",
    "else:\n",
    "    print(\"Database connection is not established.\")"
   ]
  },
  {
   "cell_type": "markdown",
   "id": "8cd7dcb4",
   "metadata": {},
   "source": [
    "### Example 4: Get Vs30 estimates for a specific CPT investigation given its NZGD ID"
   ]
  },
  {
   "cell_type": "code",
   "execution_count": null,
   "id": "c14ddccc",
   "metadata": {},
   "outputs": [],
   "source": [
    "nzgd_id_for_cpt_vs30 = 1\n",
    "\n",
    "if conn:\n",
    "    cpt_vs30_df = query.cpt_vs30s_for_one_nzgd_id(selected_nzgd_id=nzgd_id_for_cpt_vs30, conn=conn)\n",
    "    if not cpt_vs30_df.empty:\n",
    "        display(cpt_vs30_df.head())\n",
    "    else:\n",
    "        print(f\"No CPT Vs30s found for NZGD ID {nzgd_id_for_cpt_vs30}.\")\n",
    "else:\n",
    "    print(\"Database connection is not established.\")"
   ]
  },
  {
   "cell_type": "markdown",
   "id": "da9c1900",
   "metadata": {},
   "source": [
    "### Example 5: Get Vs30 Estimates for a specific SPT investigation given its NZGD ID"
   ]
  },
  {
   "cell_type": "code",
   "execution_count": null,
   "id": "65070294",
   "metadata": {},
   "outputs": [],
   "source": [
    "nzgd_id_for_spt_vs30 = 14810\n",
    "\n",
    "if conn:\n",
    "    spt_vs30_df = query.spt_vs30s_for_one_nzgd_id(selected_nzgd_id=nzgd_id_for_spt_vs30, conn=conn)\n",
    "    if not spt_vs30_df.empty:\n",
    "        display(spt_vs30_df.head())\n",
    "    else:\n",
    "        print(f\"No SPT Vs30s found for NZGD ID {nzgd_id_for_spt_vs30}.\")\n",
    "else:\n",
    "    print(\"Database connection is not established.\")"
   ]
  },
  {
   "cell_type": "markdown",
   "id": "1ee7167d",
   "metadata": {},
   "source": [
    "### Example 6: Get All Estimated Vs30s Given Specific Correlations\n",
    "\n",
    "Please refer to [available_options.md](./available_options.md) to see the available correlation options.\n",
    "\n"
   ]
  },
  {
   "cell_type": "code",
   "execution_count": null,
   "id": "189721f4",
   "metadata": {},
   "outputs": [],
   "source": [
    "vs30_corr = \"boore_2004\"\n",
    "cpt_vs_corr = \"andrus_2007_pleistocene\"\n",
    "spt_vs_corr = \"brandenberg_2010\"\n",
    "hammer = \"Auto\"\n",
    "\n",
    "if conn:\n",
    "\n",
    "    all_vs30_data_df = query.all_vs30s_given_correlations(\n",
    "        selected_vs_to_vs30_correlation=vs30_corr,\n",
    "        selected_cpt_to_vs_correlation=cpt_vs_corr,\n",
    "        selected_spt_to_vs_correlation=spt_vs_corr,\n",
    "        selected_hammer_type=hammer,\n",
    "        conn=conn\n",
    "    )\n",
    "    if not all_vs30_data_df.empty:\n",
    "        display(all_vs30_data_df.head())\n",
    "    else:\n",
    "        print(\"No Vs30 data found for the given correlations.\")\n",
    "else:\n",
    "    print(\"Database connection is not established.\")"
   ]
  },
  {
   "cell_type": "markdown",
   "id": "c3a6fb80",
   "metadata": {},
   "source": [
    "### Example 7: Get the Westerhoff et al. (2018) model ground water level (GWL) for NZGD records\n",
    "\n",
    "The `get_westerhoff_model_gwl()` can be used to get the Westerhoff et al. (2018) model ground water level for all, or a selection, or the NZGD investigations in the database."
   ]
  },
  {
   "cell_type": "code",
   "execution_count": 4,
   "id": "10beda72",
   "metadata": {},
   "outputs": [
    {
     "name": "stdout",
     "output_type": "stream",
     "text": [
      "For all NZGD IDs (showing first 5)\n",
      "   nzgd_id  model_gwl_westerhoff_2019\n",
      "0        1                   4.740686\n",
      "1        2                   3.034373\n",
      "2        3                   3.337427\n",
      "3        4                   2.732629\n",
      "4        5                   2.625690\n",
      "\n",
      "For the selected NZGD IDs:\n",
      "   nzgd_id  model_gwl_westerhoff_2019\n",
      "0       10                   4.135323\n",
      "1       11                   4.079596\n",
      "2       12                   3.779715\n",
      "\n",
      "For the single NZGD ID:\n",
      "   nzgd_id  model_gwl_westerhoff_2019\n",
      "0        1                   4.740686\n"
     ]
    }
   ],
   "source": [
    "if conn:\n",
    "    # To get for all NZGD IDs\n",
    "    gwl_df_all_nzgd_ids = query.get_westerhoff_model_gwl(conn)\n",
    "    gwl_df_selected_nzgd_ids = query.get_westerhoff_model_gwl(conn, nzgd_id=[10, 11, 12])\n",
    "    gwl_df_single_nzgd_id = query.get_westerhoff_model_gwl(conn, nzgd_id=1)\n",
    "\n",
    "print(\"For all NZGD IDs (showing first 5)\")\n",
    "print(gwl_df_all_nzgd_ids.head())\n",
    "print()\n",
    "print(\"For the selected NZGD IDs:\")\n",
    "print(gwl_df_selected_nzgd_ids.head())\n",
    "print()\n",
    "print(\"For the single NZGD ID:\")\n",
    "print(gwl_df_single_nzgd_id.head())"
   ]
  },
  {
   "cell_type": "code",
   "execution_count": 10,
   "id": "fdfbc258",
   "metadata": {},
   "outputs": [
    {
     "data": {
      "application/vnd.microsoft.datawrangler.viewer.v0+json": {
       "columns": [
        {
         "name": "index",
         "rawType": "int64",
         "type": "integer"
        },
        {
         "name": "nzgd_id",
         "rawType": "int64",
         "type": "integer"
        },
        {
         "name": "model_gwl_westerhoff_2019",
         "rawType": "float64",
         "type": "float"
        }
       ],
       "ref": "e433a93b-e277-43d9-8e19-ab5630e1d19a",
       "rows": [
        [
         "0",
         "715",
         null
        ],
        [
         "1",
         "717",
         null
        ],
        [
         "2",
         "1455",
         null
        ],
        [
         "3",
         "5411",
         null
        ],
        [
         "4",
         "5412",
         null
        ]
       ],
       "shape": {
        "columns": 2,
        "rows": 5
       }
      },
      "text/html": [
       "<div>\n",
       "<style scoped>\n",
       "    .dataframe tbody tr th:only-of-type {\n",
       "        vertical-align: middle;\n",
       "    }\n",
       "\n",
       "    .dataframe tbody tr th {\n",
       "        vertical-align: top;\n",
       "    }\n",
       "\n",
       "    .dataframe thead th {\n",
       "        text-align: right;\n",
       "    }\n",
       "</style>\n",
       "<table border=\"1\" class=\"dataframe\">\n",
       "  <thead>\n",
       "    <tr style=\"text-align: right;\">\n",
       "      <th></th>\n",
       "      <th>nzgd_id</th>\n",
       "      <th>model_gwl_westerhoff_2019</th>\n",
       "    </tr>\n",
       "  </thead>\n",
       "  <tbody>\n",
       "    <tr>\n",
       "      <th>0</th>\n",
       "      <td>715</td>\n",
       "      <td>NaN</td>\n",
       "    </tr>\n",
       "    <tr>\n",
       "      <th>1</th>\n",
       "      <td>717</td>\n",
       "      <td>NaN</td>\n",
       "    </tr>\n",
       "    <tr>\n",
       "      <th>2</th>\n",
       "      <td>1455</td>\n",
       "      <td>NaN</td>\n",
       "    </tr>\n",
       "    <tr>\n",
       "      <th>3</th>\n",
       "      <td>5411</td>\n",
       "      <td>NaN</td>\n",
       "    </tr>\n",
       "    <tr>\n",
       "      <th>4</th>\n",
       "      <td>5412</td>\n",
       "      <td>NaN</td>\n",
       "    </tr>\n",
       "  </tbody>\n",
       "</table>\n",
       "</div>"
      ],
      "text/plain": [
       "   nzgd_id  model_gwl_westerhoff_2019\n",
       "0      715                        NaN\n",
       "1      717                        NaN\n",
       "2     1455                        NaN\n",
       "3     5411                        NaN\n",
       "4     5412                        NaN"
      ]
     },
     "execution_count": 10,
     "metadata": {},
     "output_type": "execute_result"
    }
   ],
   "source": [
    "gwl_df_all_nzgd_ids.head()"
   ]
  },
  {
   "cell_type": "code",
   "execution_count": null,
   "id": "2a05fb8f",
   "metadata": {},
   "outputs": [],
   "source": [
    "if conn: # if a connection exists\n",
    "    conn.close()\n",
    "    print(\"\\nDatabase connection closed.\")\n",
    "else:\n",
    "    print(\"No database connection to close.\")"
   ]
  }
 ],
 "metadata": {
  "kernelspec": {
   "display_name": "sqlite_tools_venv (3.12.3)",
   "language": "python",
   "name": "python3"
  },
  "language_info": {
   "codemirror_mode": {
    "name": "ipython",
    "version": 3
   },
   "file_extension": ".py",
   "mimetype": "text/x-python",
   "name": "python",
   "nbconvert_exporter": "python",
   "pygments_lexer": "ipython3",
   "version": "3.12.3"
  }
 },
 "nbformat": 4,
 "nbformat_minor": 5
}
