{
 "cells": [
  {
   "cell_type": "markdown",
   "id": "67ac6123",
   "metadata": {},
   "source": [
    "# Using `sqlite_tools` to Query Our SQLite database containing our copy of the NZGD\n",
    "\n",
    "This notebook demonstrates how to interact with our SQLite database containing our copy of the NZGD. We'll cover:\n",
    "1.  Connecting to an SQLite database.\n",
    "2.  Basic SQLite query structure.\n",
    "3.  Using the functions provided in the `sqlite_tools.query_sqlite_db` module to extract specific data."
   ]
  },
  {
   "cell_type": "markdown",
   "id": "ee4961a2",
   "metadata": {},
   "source": [
    "## 1. Accessing SQLite Database from Python\n",
    "\n",
    "Python's built-in `sqlite3` module allows us to connect to and interact with SQLite databases. \n",
    "\n",
    "First, you need to import the necessary libraries: `sqlite3` for database interaction, `pathlib` for handling file paths, and `pandas` for working with data in DataFrames. If you plan to use the `sqlite_tools` package, you'll import its functions as well."
   ]
  },
  {
   "cell_type": "code",
   "execution_count": 2,
   "id": "1a487a15",
   "metadata": {},
   "outputs": [],
   "source": [
    "import sqlite3\n",
    "from pathlib import Path\n",
    "\n",
    "import pandas as pd\n",
    "\n",
    "from sqlite_tools import query"
   ]
  },
  {
   "cell_type": "markdown",
   "id": "d88de7e5",
   "metadata": {},
   "source": [
    "Next, specify the path to your SQLite database file. **Remember to replace `\"/path/to/your/nzgd_database.db\"` with the actual path to your database file.**"
   ]
  },
  {
   "cell_type": "code",
   "execution_count": null,
   "id": "aac68f2f",
   "metadata": {},
   "outputs": [
    {
     "name": "stdout",
     "output_type": "stream",
     "text": [
      "Successfully connected to /home/arr65/data/nzgd/extracted_nzgd_data_until_8_Nov_2024.db\n"
     ]
    }
   ],
   "source": [
    "# Define the path to your SQLite database\n",
    "# !!! IMPORTANT: Replace this with the actual path to your database file !!!\n",
    "db_file_path = Path(\"/path/to/your/nzgd_database.db\")\n",
    "\n",
    "# Establish a database connection\n",
    "conn = sqlite3.connect(db_file_path)\n",
    "print(f\"Successfully connected to {db_file_path}\")\n",
    "\n",
    "# Note: The connection `conn` will be used in subsequent cells.\n",
    "# We will close it at the end of the notebook."
   ]
  },
  {
   "cell_type": "markdown",
   "id": "9214e59d",
   "metadata": {},
   "source": [
    "## 2. Understanding SQLite Query Structure\n",
    "\n",
    "SQL (Structured Query Language) is used to communicate with databases. SQLite uses a dialect of SQL. Here are some common clauses:\n",
    "\n",
    "*   **`SELECT column1, column2, ... FROM table_name`**: This is the most fundamental clause. It retrieves specified columns from a table.\n",
    "    *   `SELECT * FROM table_name` selects all columns.\n",
    "*   **`WHERE condition`**: Filters records based on a specific condition. \n",
    "    *   Example: `WHERE age > 30` or `WHERE name = 'Alice'`.\n",
    "*   **`JOIN another_table ON table_name.column_name = another_table.column_name`**: Combines rows from two or more tables based on a related column between them.\n",
    "    *   Common types: `INNER JOIN` (default), `LEFT JOIN`.\n",
    "*   **`ORDER BY column_name [ASC|DESC]`**: Sorts the result set by one or more columns, either in ascending (`ASC`, default) or descending (`DESC`) order.\n",
    "*   **`LIMIT number`**: Restricts the number of rows returned by the query.\n",
    "*   **`GROUP BY column_name`**: Groups rows that have the same values in specified columns into summary rows. Often used with aggregate functions like `COUNT()`, `MAX()`, `MIN()`, `SUM()`, `AVG()`.\n",
    "\n",
    "**Example of a more complex query structure:**\n",
    "\n",
    "```sql\n",
    "SELECT \n",
    "    t1.columnA, \n",
    "    t2.columnB, \n",
    "    COUNT(t1.id) as item_count\n",
    "FROM \n",
    "    table1 AS t1\n",
    "INNER JOIN \n",
    "    table2 AS t2 ON t1.common_id = t2.common_id\n",
    "WHERE \n",
    "    t1.status = 'active' AND t2.category = 'electronics'\n",
    "GROUP BY \n",
    "    t1.columnA, t2.columnB\n",
    "ORDER BY \n",
    "    item_count DESC\n",
    "LIMIT 10;\n",
    "```\n",
    "This query selects data from `table1` and `table2`, filters it, groups it, counts items, orders the result, and limits it to the top 10."
   ]
  },
  {
   "cell_type": "markdown",
   "id": "e1a7f5be",
   "metadata": {},
   "source": [
    "## 3. Using Functions from `sqlite_tools.query`\n",
    "\n",
    "The `sqlite_tools` package provides functions to easily extract some data. These functions encapsulate SQL queries.\n",
    "\n",
    "**Ensure your database connection (`conn`) is active from Cell 2.**"
   ]
  },
  {
   "cell_type": "markdown",
   "id": "c890fbc6",
   "metadata": {},
   "source": [
    "### Example 1: Get measurements for a specific CPT using its NZGD ID"
   ]
  },
  {
   "cell_type": "code",
   "execution_count": 4,
   "id": "2a604e41",
   "metadata": {},
   "outputs": [
    {
     "name": "stdout",
     "output_type": "stream",
     "text": [
      "Time to extract CPT measurements for cpt_id=1 from SQLite: 0.01 s\n"
     ]
    },
    {
     "data": {
      "application/vnd.microsoft.datawrangler.viewer.v0+json": {
       "columns": [
        {
         "name": "index",
         "rawType": "int64",
         "type": "integer"
        },
        {
         "name": "depth",
         "rawType": "float64",
         "type": "float"
        },
        {
         "name": "qc",
         "rawType": "float64",
         "type": "float"
        },
        {
         "name": "fs",
         "rawType": "float64",
         "type": "float"
        },
        {
         "name": "u2",
         "rawType": "float64",
         "type": "float"
        },
        {
         "name": "cpt_id",
         "rawType": "int64",
         "type": "integer"
        },
        {
         "name": "nzgd_id",
         "rawType": "int64",
         "type": "integer"
        }
       ],
       "ref": "82bf9bcd-0701-4ac6-b633-66b8aade015f",
       "rows": [
        [
         "0",
         "0.0",
         "0.05",
         "0.0",
         "0.0",
         "0",
         "1"
        ],
        [
         "1",
         "0.01",
         "0.09",
         "0.0",
         "0.001",
         "0",
         "1"
        ],
        [
         "2",
         "0.02",
         "0.21",
         "0.0",
         "0.0",
         "0",
         "1"
        ],
        [
         "3",
         "0.03",
         "0.27",
         "0.0",
         "0.0",
         "0",
         "1"
        ],
        [
         "4",
         "0.04",
         "0.28",
         "0.001",
         "0.0",
         "0",
         "1"
        ]
       ],
       "shape": {
        "columns": 6,
        "rows": 5
       }
      },
      "text/html": [
       "<div>\n",
       "<style scoped>\n",
       "    .dataframe tbody tr th:only-of-type {\n",
       "        vertical-align: middle;\n",
       "    }\n",
       "\n",
       "    .dataframe tbody tr th {\n",
       "        vertical-align: top;\n",
       "    }\n",
       "\n",
       "    .dataframe thead th {\n",
       "        text-align: right;\n",
       "    }\n",
       "</style>\n",
       "<table border=\"1\" class=\"dataframe\">\n",
       "  <thead>\n",
       "    <tr style=\"text-align: right;\">\n",
       "      <th></th>\n",
       "      <th>depth</th>\n",
       "      <th>qc</th>\n",
       "      <th>fs</th>\n",
       "      <th>u2</th>\n",
       "      <th>cpt_id</th>\n",
       "      <th>nzgd_id</th>\n",
       "    </tr>\n",
       "  </thead>\n",
       "  <tbody>\n",
       "    <tr>\n",
       "      <th>0</th>\n",
       "      <td>0.00</td>\n",
       "      <td>0.05</td>\n",
       "      <td>0.000</td>\n",
       "      <td>0.000</td>\n",
       "      <td>0</td>\n",
       "      <td>1</td>\n",
       "    </tr>\n",
       "    <tr>\n",
       "      <th>1</th>\n",
       "      <td>0.01</td>\n",
       "      <td>0.09</td>\n",
       "      <td>0.000</td>\n",
       "      <td>0.001</td>\n",
       "      <td>0</td>\n",
       "      <td>1</td>\n",
       "    </tr>\n",
       "    <tr>\n",
       "      <th>2</th>\n",
       "      <td>0.02</td>\n",
       "      <td>0.21</td>\n",
       "      <td>0.000</td>\n",
       "      <td>0.000</td>\n",
       "      <td>0</td>\n",
       "      <td>1</td>\n",
       "    </tr>\n",
       "    <tr>\n",
       "      <th>3</th>\n",
       "      <td>0.03</td>\n",
       "      <td>0.27</td>\n",
       "      <td>0.000</td>\n",
       "      <td>0.000</td>\n",
       "      <td>0</td>\n",
       "      <td>1</td>\n",
       "    </tr>\n",
       "    <tr>\n",
       "      <th>4</th>\n",
       "      <td>0.04</td>\n",
       "      <td>0.28</td>\n",
       "      <td>0.001</td>\n",
       "      <td>0.000</td>\n",
       "      <td>0</td>\n",
       "      <td>1</td>\n",
       "    </tr>\n",
       "  </tbody>\n",
       "</table>\n",
       "</div>"
      ],
      "text/plain": [
       "   depth    qc     fs     u2  cpt_id  nzgd_id\n",
       "0   0.00  0.05  0.000  0.000       0        1\n",
       "1   0.01  0.09  0.000  0.001       0        1\n",
       "2   0.02  0.21  0.000  0.000       0        1\n",
       "3   0.03  0.27  0.000  0.000       0        1\n",
       "4   0.04  0.28  0.001  0.000       0        1"
      ]
     },
     "metadata": {},
     "output_type": "display_data"
    }
   ],
   "source": [
    "nzgd_id_for_cpt = 1 \n",
    "\n",
    "if conn:\n",
    "    cpt_df = query.cpt_measurements_for_one_nzgd(selected_nzgd_id=nzgd_id_for_cpt, conn=conn)\n",
    "    if not cpt_df.empty:\n",
    "        display(cpt_df.head())\n",
    "    else:\n",
    "        print(f\"No CPT measurements found for NZGD ID {nzgd_id_for_cpt}.\")\n",
    "else:\n",
    "    print(\"Database connection is not established.\")"
   ]
  },
  {
   "cell_type": "markdown",
   "id": "4b43d2ec",
   "metadata": {},
   "source": [
    "### Example 2: Get measurements for a specific SPT using its NZGD ID"
   ]
  },
  {
   "cell_type": "code",
   "execution_count": 5,
   "id": "96fbe208",
   "metadata": {},
   "outputs": [
    {
     "name": "stdout",
     "output_type": "stream",
     "text": [
      "Time to extract CPT measurements for cpt_id=14810 from SQLite: 0.00 s\n"
     ]
    },
    {
     "data": {
      "application/vnd.microsoft.datawrangler.viewer.v0+json": {
       "columns": [
        {
         "name": "index",
         "rawType": "int64",
         "type": "integer"
        },
        {
         "name": "depth",
         "rawType": "float64",
         "type": "float"
        },
        {
         "name": "n",
         "rawType": "int64",
         "type": "integer"
        },
        {
         "name": "nzgd_id",
         "rawType": "int64",
         "type": "integer"
        }
       ],
       "ref": "400eec00-554e-4f13-baf4-46245aa10708",
       "rows": [
        [
         "0",
         "1.0",
         "2",
         "14810"
        ],
        [
         "1",
         "2.0",
         "0",
         "14810"
        ],
        [
         "2",
         "3.0",
         "14",
         "14810"
        ],
        [
         "3",
         "4.0",
         "21",
         "14810"
        ],
        [
         "4",
         "5.0",
         "29",
         "14810"
        ]
       ],
       "shape": {
        "columns": 3,
        "rows": 5
       }
      },
      "text/html": [
       "<div>\n",
       "<style scoped>\n",
       "    .dataframe tbody tr th:only-of-type {\n",
       "        vertical-align: middle;\n",
       "    }\n",
       "\n",
       "    .dataframe tbody tr th {\n",
       "        vertical-align: top;\n",
       "    }\n",
       "\n",
       "    .dataframe thead th {\n",
       "        text-align: right;\n",
       "    }\n",
       "</style>\n",
       "<table border=\"1\" class=\"dataframe\">\n",
       "  <thead>\n",
       "    <tr style=\"text-align: right;\">\n",
       "      <th></th>\n",
       "      <th>depth</th>\n",
       "      <th>n</th>\n",
       "      <th>nzgd_id</th>\n",
       "    </tr>\n",
       "  </thead>\n",
       "  <tbody>\n",
       "    <tr>\n",
       "      <th>0</th>\n",
       "      <td>1.0</td>\n",
       "      <td>2</td>\n",
       "      <td>14810</td>\n",
       "    </tr>\n",
       "    <tr>\n",
       "      <th>1</th>\n",
       "      <td>2.0</td>\n",
       "      <td>0</td>\n",
       "      <td>14810</td>\n",
       "    </tr>\n",
       "    <tr>\n",
       "      <th>2</th>\n",
       "      <td>3.0</td>\n",
       "      <td>14</td>\n",
       "      <td>14810</td>\n",
       "    </tr>\n",
       "    <tr>\n",
       "      <th>3</th>\n",
       "      <td>4.0</td>\n",
       "      <td>21</td>\n",
       "      <td>14810</td>\n",
       "    </tr>\n",
       "    <tr>\n",
       "      <th>4</th>\n",
       "      <td>5.0</td>\n",
       "      <td>29</td>\n",
       "      <td>14810</td>\n",
       "    </tr>\n",
       "  </tbody>\n",
       "</table>\n",
       "</div>"
      ],
      "text/plain": [
       "   depth   n  nzgd_id\n",
       "0    1.0   2    14810\n",
       "1    2.0   0    14810\n",
       "2    3.0  14    14810\n",
       "3    4.0  21    14810\n",
       "4    5.0  29    14810"
      ]
     },
     "metadata": {},
     "output_type": "display_data"
    }
   ],
   "source": [
    "nzgd_id_for_spt = 14810\n",
    "\n",
    "if conn:\n",
    "    spt_df = query.spt_measurements_for_one_nzgd(selected_nzgd_id=nzgd_id_for_spt, conn=conn)\n",
    "    if not spt_df.empty:\n",
    "        display(spt_df.head())\n",
    "    else:\n",
    "        print(f\"No SPT measurements found for NZGD ID {nzgd_id_for_spt}.\")\n",
    "else:\n",
    "    print(\"Database connection is not established.\")"
   ]
  },
  {
   "cell_type": "markdown",
   "id": "ca4056bc",
   "metadata": {},
   "source": [
    "### Example 3: Get Soil Type measurements for a specific SPT using its NZGD ID"
   ]
  },
  {
   "cell_type": "code",
   "execution_count": 7,
   "id": "e10890a6",
   "metadata": {},
   "outputs": [
    {
     "data": {
      "application/vnd.microsoft.datawrangler.viewer.v0+json": {
       "columns": [
        {
         "name": "index",
         "rawType": "int64",
         "type": "integer"
        },
        {
         "name": "top_depth",
         "rawType": "float64",
         "type": "float"
        },
        {
         "name": "nzgd_id",
         "rawType": "int64",
         "type": "integer"
        },
        {
         "name": "soil_type",
         "rawType": "object",
         "type": "string"
        },
        {
         "name": "layer_thickness",
         "rawType": "object",
         "type": "string"
        }
       ],
       "ref": "03e2b402-6bea-4fab-9266-59f70f4c1024",
       "rows": [
        [
         "0",
         "0.0",
         "14810",
         "SILT",
         "0.3095"
        ],
        [
         "1",
         "0.3095",
         "14810",
         "SILT",
         "2.6905"
        ],
        [
         "2",
         "3.0",
         "14810",
         "SAND",
         "0.3105"
        ],
        [
         "3",
         "3.3105",
         "14810",
         "SAND",
         "0.6895"
        ],
        [
         "4",
         "4.0",
         "14810",
         "SAND",
         "0.4015"
        ]
       ],
       "shape": {
        "columns": 4,
        "rows": 5
       }
      },
      "text/html": [
       "<div>\n",
       "<style scoped>\n",
       "    .dataframe tbody tr th:only-of-type {\n",
       "        vertical-align: middle;\n",
       "    }\n",
       "\n",
       "    .dataframe tbody tr th {\n",
       "        vertical-align: top;\n",
       "    }\n",
       "\n",
       "    .dataframe thead th {\n",
       "        text-align: right;\n",
       "    }\n",
       "</style>\n",
       "<table border=\"1\" class=\"dataframe\">\n",
       "  <thead>\n",
       "    <tr style=\"text-align: right;\">\n",
       "      <th></th>\n",
       "      <th>top_depth</th>\n",
       "      <th>nzgd_id</th>\n",
       "      <th>soil_type</th>\n",
       "      <th>layer_thickness</th>\n",
       "    </tr>\n",
       "  </thead>\n",
       "  <tbody>\n",
       "    <tr>\n",
       "      <th>0</th>\n",
       "      <td>0.0000</td>\n",
       "      <td>14810</td>\n",
       "      <td>SILT</td>\n",
       "      <td>0.3095</td>\n",
       "    </tr>\n",
       "    <tr>\n",
       "      <th>1</th>\n",
       "      <td>0.3095</td>\n",
       "      <td>14810</td>\n",
       "      <td>SILT</td>\n",
       "      <td>2.6905</td>\n",
       "    </tr>\n",
       "    <tr>\n",
       "      <th>2</th>\n",
       "      <td>3.0000</td>\n",
       "      <td>14810</td>\n",
       "      <td>SAND</td>\n",
       "      <td>0.3105</td>\n",
       "    </tr>\n",
       "    <tr>\n",
       "      <th>3</th>\n",
       "      <td>3.3105</td>\n",
       "      <td>14810</td>\n",
       "      <td>SAND</td>\n",
       "      <td>0.6895</td>\n",
       "    </tr>\n",
       "    <tr>\n",
       "      <th>4</th>\n",
       "      <td>4.0000</td>\n",
       "      <td>14810</td>\n",
       "      <td>SAND</td>\n",
       "      <td>0.4015</td>\n",
       "    </tr>\n",
       "  </tbody>\n",
       "</table>\n",
       "</div>"
      ],
      "text/plain": [
       "   top_depth  nzgd_id soil_type layer_thickness\n",
       "0     0.0000    14810      SILT          0.3095\n",
       "1     0.3095    14810      SILT          2.6905\n",
       "2     3.0000    14810      SAND          0.3105\n",
       "3     3.3105    14810      SAND          0.6895\n",
       "4     4.0000    14810      SAND          0.4015"
      ]
     },
     "metadata": {},
     "output_type": "display_data"
    }
   ],
   "source": [
    "nzgd_id_for_spt_soil = 14810\n",
    "\n",
    "if conn:\n",
    "    spt_soil_df = query.spt_soil_types_for_one_nzgd(selected_nzgd_id=nzgd_id_for_spt_soil, conn=conn)\n",
    "    if not spt_soil_df.empty:\n",
    "        display(spt_soil_df.head())\n",
    "    else:\n",
    "        print(f\"No SPT soil types found for NZGD ID {nzgd_id_for_spt_soil}.\")\n",
    "else:\n",
    "    print(\"Database connection is not established.\")"
   ]
  },
  {
   "cell_type": "markdown",
   "id": "8cd7dcb4",
   "metadata": {},
   "source": [
    "### Example 4: Get Vs30 estimates for a specific CPT investigation given its NZGD ID"
   ]
  },
  {
   "cell_type": "code",
   "execution_count": 8,
   "id": "c14ddccc",
   "metadata": {},
   "outputs": [
    {
     "name": "stdout",
     "output_type": "stream",
     "text": [
      "Time to extract Vs30s for nzgd_id=1 from SQLite: 0.00 s\n"
     ]
    },
    {
     "data": {
      "application/vnd.microsoft.datawrangler.viewer.v0+json": {
       "columns": [
        {
         "name": "index",
         "rawType": "int64",
         "type": "integer"
        },
        {
         "name": "cpt_id",
         "rawType": "int64",
         "type": "integer"
        },
        {
         "name": "nzgd_id",
         "rawType": "int64",
         "type": "integer"
        },
        {
         "name": "vs30",
         "rawType": "float64",
         "type": "float"
        },
        {
         "name": "vs30_stddev",
         "rawType": "float64",
         "type": "float"
        },
        {
         "name": "cpt_file",
         "rawType": "object",
         "type": "string"
        },
        {
         "name": "cpt_tip_net_area_ratio",
         "rawType": "object",
         "type": "unknown"
        },
        {
         "name": "measured_gwl",
         "rawType": "float64",
         "type": "float"
        },
        {
         "name": "deepest_depth",
         "rawType": "float64",
         "type": "float"
        },
        {
         "name": "shallowest_depth",
         "rawType": "float64",
         "type": "float"
        },
        {
         "name": "cpt_to_vs_correlation",
         "rawType": "object",
         "type": "string"
        },
        {
         "name": "vs_to_vs30_correlation",
         "rawType": "object",
         "type": "string"
        },
        {
         "name": "type_prefix",
         "rawType": "object",
         "type": "string"
        },
        {
         "name": "original_reference",
         "rawType": "object",
         "type": "string"
        },
        {
         "name": "investigation_date",
         "rawType": "object",
         "type": "string"
        },
        {
         "name": "published_date",
         "rawType": "object",
         "type": "string"
        },
        {
         "name": "latitude",
         "rawType": "float64",
         "type": "float"
        },
        {
         "name": "longitude",
         "rawType": "float64",
         "type": "float"
        },
        {
         "name": "model_vs30_foster_2019",
         "rawType": "float64",
         "type": "float"
        },
        {
         "name": "model_vs30_stddev_foster_2019",
         "rawType": "float64",
         "type": "float"
        },
        {
         "name": "model_gwl_westerhoff_2019",
         "rawType": "float64",
         "type": "float"
        },
        {
         "name": "region",
         "rawType": "object",
         "type": "string"
        },
        {
         "name": "district",
         "rawType": "object",
         "type": "string"
        },
        {
         "name": "city",
         "rawType": "object",
         "type": "string"
        },
        {
         "name": "suburb",
         "rawType": "object",
         "type": "string"
        },
        {
         "name": "record_name",
         "rawType": "object",
         "type": "string"
        },
        {
         "name": "vs30_log_residual",
         "rawType": "float64",
         "type": "float"
        },
        {
         "name": "gwl_residual",
         "rawType": "float64",
         "type": "float"
        }
       ],
       "ref": "895ef204-fe70-4a28-bdb3-0443da4ebb6a",
       "rows": [
        [
         "0",
         "0",
         "1",
         "278.2437222991522",
         "0.014691",
         "CPT_1_AGS01.xls-TabulatedData",
         null,
         "1.0",
         "26.04",
         "0.0",
         "andrus_2007_pleistocene",
         "boore_2004",
         "CPT",
         "CPT-ARN-01",
         "2010-11-19",
         "2012-06-13",
         "-43.521205605",
         "172.708811478",
         "219.36679",
         "0.23338781",
         "4.740685939788818",
         "Canterbury",
         "Christchurch_City",
         "Christchurch",
         "Aranui",
         "CPT_1",
         "0.2377522595140249",
         "-3.7406859397888184"
        ],
        [
         "1",
         "0",
         "1",
         "226.2227565831807",
         "0.014691",
         "CPT_1_AGS01.xls-TabulatedData",
         null,
         "1.0",
         "26.04",
         "0.0",
         "andrus_2007_holocene",
         "boore_2004",
         "CPT",
         "CPT-ARN-01",
         "2010-11-19",
         "2012-06-13",
         "-43.521205605",
         "172.708811478",
         "219.36679",
         "0.23338781",
         "4.740685939788818",
         "Canterbury",
         "Christchurch_City",
         "Christchurch",
         "Aranui",
         "CPT_1",
         "0.030774993419409924",
         "-3.7406859397888184"
        ],
        [
         "2",
         "0",
         "1",
         "583.1949080030676",
         "0.014691",
         "CPT_1_AGS01.xls-TabulatedData",
         null,
         "1.0",
         "26.04",
         "0.0",
         "andrus_2007_tertiary_age_cooper_marl",
         "boore_2004",
         "CPT",
         "CPT-ARN-01",
         "2010-11-19",
         "2012-06-13",
         "-43.521205605",
         "172.708811478",
         "219.36679",
         "0.23338781",
         "4.740685939788818",
         "Canterbury",
         "Christchurch_City",
         "Christchurch",
         "Aranui",
         "CPT_1",
         "0.9777762805046537",
         "-3.7406859397888184"
        ],
        [
         "3",
         "0",
         "1",
         "229.3641714265564",
         "0.014691",
         "CPT_1_AGS01.xls-TabulatedData",
         null,
         "1.0",
         "26.04",
         "0.0",
         "robertson_2009",
         "boore_2004",
         "CPT",
         "CPT-ARN-01",
         "2010-11-19",
         "2012-06-13",
         "-43.521205605",
         "172.708811478",
         "219.36679",
         "0.23338781",
         "4.740685939788818",
         "Canterbury",
         "Christchurch_City",
         "Christchurch",
         "Aranui",
         "CPT_1",
         "0.04456583963652516",
         "-3.7406859397888184"
        ],
        [
         "4",
         "0",
         "1",
         "236.4634815635401",
         "0.014691",
         "CPT_1_AGS01.xls-TabulatedData",
         null,
         "1.0",
         "26.04",
         "0.0",
         "hegazy_2006",
         "boore_2004",
         "CPT",
         "CPT-ARN-01",
         "2010-11-19",
         "2012-06-13",
         "-43.521205605",
         "172.708811478",
         "219.36679",
         "0.23338781",
         "4.740685939788818",
         "Canterbury",
         "Christchurch_City",
         "Christchurch",
         "Aranui",
         "CPT_1",
         "0.07504861499734883",
         "-3.7406859397888184"
        ]
       ],
       "shape": {
        "columns": 27,
        "rows": 5
       }
      },
      "text/html": [
       "<div>\n",
       "<style scoped>\n",
       "    .dataframe tbody tr th:only-of-type {\n",
       "        vertical-align: middle;\n",
       "    }\n",
       "\n",
       "    .dataframe tbody tr th {\n",
       "        vertical-align: top;\n",
       "    }\n",
       "\n",
       "    .dataframe thead th {\n",
       "        text-align: right;\n",
       "    }\n",
       "</style>\n",
       "<table border=\"1\" class=\"dataframe\">\n",
       "  <thead>\n",
       "    <tr style=\"text-align: right;\">\n",
       "      <th></th>\n",
       "      <th>cpt_id</th>\n",
       "      <th>nzgd_id</th>\n",
       "      <th>vs30</th>\n",
       "      <th>vs30_stddev</th>\n",
       "      <th>cpt_file</th>\n",
       "      <th>cpt_tip_net_area_ratio</th>\n",
       "      <th>measured_gwl</th>\n",
       "      <th>deepest_depth</th>\n",
       "      <th>shallowest_depth</th>\n",
       "      <th>cpt_to_vs_correlation</th>\n",
       "      <th>...</th>\n",
       "      <th>model_vs30_foster_2019</th>\n",
       "      <th>model_vs30_stddev_foster_2019</th>\n",
       "      <th>model_gwl_westerhoff_2019</th>\n",
       "      <th>region</th>\n",
       "      <th>district</th>\n",
       "      <th>city</th>\n",
       "      <th>suburb</th>\n",
       "      <th>record_name</th>\n",
       "      <th>vs30_log_residual</th>\n",
       "      <th>gwl_residual</th>\n",
       "    </tr>\n",
       "  </thead>\n",
       "  <tbody>\n",
       "    <tr>\n",
       "      <th>0</th>\n",
       "      <td>0</td>\n",
       "      <td>1</td>\n",
       "      <td>278.243722</td>\n",
       "      <td>0.014691</td>\n",
       "      <td>CPT_1_AGS01.xls-TabulatedData</td>\n",
       "      <td>None</td>\n",
       "      <td>1.0</td>\n",
       "      <td>26.04</td>\n",
       "      <td>0.0</td>\n",
       "      <td>andrus_2007_pleistocene</td>\n",
       "      <td>...</td>\n",
       "      <td>219.36679</td>\n",
       "      <td>0.233388</td>\n",
       "      <td>4.740686</td>\n",
       "      <td>Canterbury</td>\n",
       "      <td>Christchurch_City</td>\n",
       "      <td>Christchurch</td>\n",
       "      <td>Aranui</td>\n",
       "      <td>CPT_1</td>\n",
       "      <td>0.237752</td>\n",
       "      <td>-3.740686</td>\n",
       "    </tr>\n",
       "    <tr>\n",
       "      <th>1</th>\n",
       "      <td>0</td>\n",
       "      <td>1</td>\n",
       "      <td>226.222757</td>\n",
       "      <td>0.014691</td>\n",
       "      <td>CPT_1_AGS01.xls-TabulatedData</td>\n",
       "      <td>None</td>\n",
       "      <td>1.0</td>\n",
       "      <td>26.04</td>\n",
       "      <td>0.0</td>\n",
       "      <td>andrus_2007_holocene</td>\n",
       "      <td>...</td>\n",
       "      <td>219.36679</td>\n",
       "      <td>0.233388</td>\n",
       "      <td>4.740686</td>\n",
       "      <td>Canterbury</td>\n",
       "      <td>Christchurch_City</td>\n",
       "      <td>Christchurch</td>\n",
       "      <td>Aranui</td>\n",
       "      <td>CPT_1</td>\n",
       "      <td>0.030775</td>\n",
       "      <td>-3.740686</td>\n",
       "    </tr>\n",
       "    <tr>\n",
       "      <th>2</th>\n",
       "      <td>0</td>\n",
       "      <td>1</td>\n",
       "      <td>583.194908</td>\n",
       "      <td>0.014691</td>\n",
       "      <td>CPT_1_AGS01.xls-TabulatedData</td>\n",
       "      <td>None</td>\n",
       "      <td>1.0</td>\n",
       "      <td>26.04</td>\n",
       "      <td>0.0</td>\n",
       "      <td>andrus_2007_tertiary_age_cooper_marl</td>\n",
       "      <td>...</td>\n",
       "      <td>219.36679</td>\n",
       "      <td>0.233388</td>\n",
       "      <td>4.740686</td>\n",
       "      <td>Canterbury</td>\n",
       "      <td>Christchurch_City</td>\n",
       "      <td>Christchurch</td>\n",
       "      <td>Aranui</td>\n",
       "      <td>CPT_1</td>\n",
       "      <td>0.977776</td>\n",
       "      <td>-3.740686</td>\n",
       "    </tr>\n",
       "    <tr>\n",
       "      <th>3</th>\n",
       "      <td>0</td>\n",
       "      <td>1</td>\n",
       "      <td>229.364171</td>\n",
       "      <td>0.014691</td>\n",
       "      <td>CPT_1_AGS01.xls-TabulatedData</td>\n",
       "      <td>None</td>\n",
       "      <td>1.0</td>\n",
       "      <td>26.04</td>\n",
       "      <td>0.0</td>\n",
       "      <td>robertson_2009</td>\n",
       "      <td>...</td>\n",
       "      <td>219.36679</td>\n",
       "      <td>0.233388</td>\n",
       "      <td>4.740686</td>\n",
       "      <td>Canterbury</td>\n",
       "      <td>Christchurch_City</td>\n",
       "      <td>Christchurch</td>\n",
       "      <td>Aranui</td>\n",
       "      <td>CPT_1</td>\n",
       "      <td>0.044566</td>\n",
       "      <td>-3.740686</td>\n",
       "    </tr>\n",
       "    <tr>\n",
       "      <th>4</th>\n",
       "      <td>0</td>\n",
       "      <td>1</td>\n",
       "      <td>236.463482</td>\n",
       "      <td>0.014691</td>\n",
       "      <td>CPT_1_AGS01.xls-TabulatedData</td>\n",
       "      <td>None</td>\n",
       "      <td>1.0</td>\n",
       "      <td>26.04</td>\n",
       "      <td>0.0</td>\n",
       "      <td>hegazy_2006</td>\n",
       "      <td>...</td>\n",
       "      <td>219.36679</td>\n",
       "      <td>0.233388</td>\n",
       "      <td>4.740686</td>\n",
       "      <td>Canterbury</td>\n",
       "      <td>Christchurch_City</td>\n",
       "      <td>Christchurch</td>\n",
       "      <td>Aranui</td>\n",
       "      <td>CPT_1</td>\n",
       "      <td>0.075049</td>\n",
       "      <td>-3.740686</td>\n",
       "    </tr>\n",
       "  </tbody>\n",
       "</table>\n",
       "<p>5 rows × 27 columns</p>\n",
       "</div>"
      ],
      "text/plain": [
       "   cpt_id  nzgd_id        vs30  vs30_stddev                       cpt_file  \\\n",
       "0       0        1  278.243722     0.014691  CPT_1_AGS01.xls-TabulatedData   \n",
       "1       0        1  226.222757     0.014691  CPT_1_AGS01.xls-TabulatedData   \n",
       "2       0        1  583.194908     0.014691  CPT_1_AGS01.xls-TabulatedData   \n",
       "3       0        1  229.364171     0.014691  CPT_1_AGS01.xls-TabulatedData   \n",
       "4       0        1  236.463482     0.014691  CPT_1_AGS01.xls-TabulatedData   \n",
       "\n",
       "  cpt_tip_net_area_ratio  measured_gwl  deepest_depth  shallowest_depth  \\\n",
       "0                   None           1.0          26.04               0.0   \n",
       "1                   None           1.0          26.04               0.0   \n",
       "2                   None           1.0          26.04               0.0   \n",
       "3                   None           1.0          26.04               0.0   \n",
       "4                   None           1.0          26.04               0.0   \n",
       "\n",
       "                  cpt_to_vs_correlation  ... model_vs30_foster_2019  \\\n",
       "0               andrus_2007_pleistocene  ...              219.36679   \n",
       "1                  andrus_2007_holocene  ...              219.36679   \n",
       "2  andrus_2007_tertiary_age_cooper_marl  ...              219.36679   \n",
       "3                        robertson_2009  ...              219.36679   \n",
       "4                           hegazy_2006  ...              219.36679   \n",
       "\n",
       "  model_vs30_stddev_foster_2019 model_gwl_westerhoff_2019      region  \\\n",
       "0                      0.233388                  4.740686  Canterbury   \n",
       "1                      0.233388                  4.740686  Canterbury   \n",
       "2                      0.233388                  4.740686  Canterbury   \n",
       "3                      0.233388                  4.740686  Canterbury   \n",
       "4                      0.233388                  4.740686  Canterbury   \n",
       "\n",
       "            district          city  suburb  record_name  vs30_log_residual  \\\n",
       "0  Christchurch_City  Christchurch  Aranui        CPT_1           0.237752   \n",
       "1  Christchurch_City  Christchurch  Aranui        CPT_1           0.030775   \n",
       "2  Christchurch_City  Christchurch  Aranui        CPT_1           0.977776   \n",
       "3  Christchurch_City  Christchurch  Aranui        CPT_1           0.044566   \n",
       "4  Christchurch_City  Christchurch  Aranui        CPT_1           0.075049   \n",
       "\n",
       "   gwl_residual  \n",
       "0     -3.740686  \n",
       "1     -3.740686  \n",
       "2     -3.740686  \n",
       "3     -3.740686  \n",
       "4     -3.740686  \n",
       "\n",
       "[5 rows x 27 columns]"
      ]
     },
     "metadata": {},
     "output_type": "display_data"
    }
   ],
   "source": [
    "nzgd_id_for_cpt_vs30 = 1\n",
    "\n",
    "if conn:\n",
    "    cpt_vs30_df = query.cpt_vs30s_for_one_nzgd_id(selected_nzgd_id=nzgd_id_for_cpt_vs30, conn=conn)\n",
    "    if not cpt_vs30_df.empty:\n",
    "        display(cpt_vs30_df.head())\n",
    "    else:\n",
    "        print(f\"No CPT Vs30s found for NZGD ID {nzgd_id_for_cpt_vs30}.\")\n",
    "else:\n",
    "    print(\"Database connection is not established.\")"
   ]
  },
  {
   "cell_type": "markdown",
   "id": "da9c1900",
   "metadata": {},
   "source": [
    "### Example 5: Get Vs30 Estimates for a specific SPT investigation given its NZGD ID"
   ]
  },
  {
   "cell_type": "code",
   "execution_count": 9,
   "id": "65070294",
   "metadata": {},
   "outputs": [
    {
     "name": "stdout",
     "output_type": "stream",
     "text": [
      "Time to extract CPT measurements for cpt_id=14810 from SQLite: 0.00 s\n",
      "Time to extract Vs30s for nzgd_id=14810 from SQLite: 0.00 s\n"
     ]
    },
    {
     "data": {
      "application/vnd.microsoft.datawrangler.viewer.v0+json": {
       "columns": [
        {
         "name": "index",
         "rawType": "int64",
         "type": "integer"
        },
        {
         "name": "nzgd_id",
         "rawType": "int64",
         "type": "integer"
        },
        {
         "name": "spt_borehole_diameter_for_vs30_calculation",
         "rawType": "float64",
         "type": "float"
        },
        {
         "name": "vs30",
         "rawType": "float64",
         "type": "float"
        },
        {
         "name": "vs30_stddev",
         "rawType": "float64",
         "type": "float"
        },
        {
         "name": "spt_vs30_calculation_used_efficiency",
         "rawType": "int64",
         "type": "integer"
        },
        {
         "name": "spt_vs30_calculation_used_soil_info",
         "rawType": "int64",
         "type": "integer"
        },
        {
         "name": "borehole_file",
         "rawType": "object",
         "type": "string"
        },
        {
         "name": "spt_efficiency",
         "rawType": "object",
         "type": "unknown"
        },
        {
         "name": "spt_borehole_diameter",
         "rawType": "object",
         "type": "unknown"
        },
        {
         "name": "measured_gwl",
         "rawType": "object",
         "type": "unknown"
        },
        {
         "name": "spt_to_vs_correlation",
         "rawType": "object",
         "type": "string"
        },
        {
         "name": "vs_to_vs30_correlation",
         "rawType": "object",
         "type": "string"
        },
        {
         "name": "type_prefix",
         "rawType": "object",
         "type": "string"
        },
        {
         "name": "original_reference",
         "rawType": "object",
         "type": "string"
        },
        {
         "name": "investigation_date",
         "rawType": "object",
         "type": "string"
        },
        {
         "name": "published_date",
         "rawType": "object",
         "type": "string"
        },
        {
         "name": "latitude",
         "rawType": "float64",
         "type": "float"
        },
        {
         "name": "longitude",
         "rawType": "float64",
         "type": "float"
        },
        {
         "name": "model_vs30_foster_2019",
         "rawType": "float64",
         "type": "float"
        },
        {
         "name": "model_vs30_stddev_foster_2019",
         "rawType": "float64",
         "type": "float"
        },
        {
         "name": "model_gwl_westerhoff_2019",
         "rawType": "float64",
         "type": "float"
        },
        {
         "name": "hammer_type",
         "rawType": "object",
         "type": "string"
        },
        {
         "name": "region",
         "rawType": "object",
         "type": "string"
        },
        {
         "name": "district",
         "rawType": "object",
         "type": "string"
        },
        {
         "name": "city",
         "rawType": "object",
         "type": "string"
        },
        {
         "name": "suburb",
         "rawType": "object",
         "type": "string"
        },
        {
         "name": "deepest_depth",
         "rawType": "float64",
         "type": "float"
        },
        {
         "name": "shallowest_depth",
         "rawType": "float64",
         "type": "float"
        },
        {
         "name": "record_name",
         "rawType": "object",
         "type": "string"
        },
        {
         "name": "vs30_log_residual",
         "rawType": "float64",
         "type": "float"
        },
        {
         "name": "gwl_residual",
         "rawType": "object",
         "type": "unknown"
        }
       ],
       "ref": "b5546deb-01eb-4c4e-8303-da15a1e0c0ab",
       "rows": [
        [
         "0",
         "14810",
         "150.0",
         "216.47950129411888",
         "4.310375648502324",
         "0",
         "0",
         "Borehole_14810_AGS01.ags",
         null,
         null,
         null,
         "brandenberg_2010",
         "boore_2011",
         "BH",
         "GA_RO_7556",
         "2012-07-26",
         "2013-02-05",
         "-43.458163634",
         "172.623412359",
         "219.63809",
         "0.23230375",
         "3.680994033813477",
         "Auto",
         "Canterbury",
         "Christchurch_City",
         "Christchurch",
         "Belfast",
         "15.0",
         "1.0",
         "BH_14810",
         "-0.014485285609138643",
         null
        ],
        [
         "1",
         "14810",
         "150.0",
         "209.68119129643185",
         "4.29417609264406",
         "0",
         "0",
         "Borehole_14810_AGS01.ags",
         null,
         null,
         null,
         "brandenberg_2010",
         "boore_2011",
         "BH",
         "GA_RO_7556",
         "2012-07-26",
         "2013-02-05",
         "-43.458163634",
         "172.623412359",
         "219.63809",
         "0.23230375",
         "3.680994033813477",
         "Safety",
         "Canterbury",
         "Christchurch_City",
         "Christchurch",
         "Belfast",
         "15.0",
         "1.0",
         "BH_14810",
         "-0.04639290582809874",
         null
        ],
        [
         "2",
         "14810",
         "150.0",
         "193.36974587930763",
         "4.253128453541737",
         "0",
         "0",
         "Borehole_14810_AGS01.ags",
         null,
         null,
         null,
         "brandenberg_2010",
         "boore_2011",
         "BH",
         "GA_RO_7556",
         "2012-07-26",
         "2013-02-05",
         "-43.458163634",
         "172.623412359",
         "219.63809",
         "0.23230375",
         "3.680994033813477",
         "Standard",
         "Canterbury",
         "Christchurch_City",
         "Christchurch",
         "Belfast",
         "15.0",
         "1.0",
         "BH_14810",
         "-0.12737700843128064",
         null
        ],
        [
         "3",
         "14810",
         "150.0",
         "186.86381877314764",
         "0.045925",
         "0",
         "0",
         "Borehole_14810_AGS01.ags",
         null,
         null,
         null,
         "brandenberg_2010",
         "boore_2004",
         "BH",
         "GA_RO_7556",
         "2012-07-26",
         "2013-02-05",
         "-43.458163634",
         "172.623412359",
         "219.63809",
         "0.23230375",
         "3.680994033813477",
         "Auto",
         "Canterbury",
         "Christchurch_City",
         "Christchurch",
         "Belfast",
         "15.0",
         "1.0",
         "BH_14810",
         "-0.1616010366219287",
         null
        ],
        [
         "4",
         "14810",
         "150.0",
         "181.06863372949016",
         "0.045925",
         "0",
         "0",
         "Borehole_14810_AGS01.ags",
         null,
         null,
         null,
         "brandenberg_2010",
         "boore_2004",
         "BH",
         "GA_RO_7556",
         "2012-07-26",
         "2013-02-05",
         "-43.458163634",
         "172.623412359",
         "219.63809",
         "0.23230375",
         "3.680994033813477",
         "Safety",
         "Canterbury",
         "Christchurch_City",
         "Christchurch",
         "Belfast",
         "15.0",
         "1.0",
         "BH_14810",
         "-0.1931049950583903",
         null
        ]
       ],
       "shape": {
        "columns": 31,
        "rows": 5
       }
      },
      "text/html": [
       "<div>\n",
       "<style scoped>\n",
       "    .dataframe tbody tr th:only-of-type {\n",
       "        vertical-align: middle;\n",
       "    }\n",
       "\n",
       "    .dataframe tbody tr th {\n",
       "        vertical-align: top;\n",
       "    }\n",
       "\n",
       "    .dataframe thead th {\n",
       "        text-align: right;\n",
       "    }\n",
       "</style>\n",
       "<table border=\"1\" class=\"dataframe\">\n",
       "  <thead>\n",
       "    <tr style=\"text-align: right;\">\n",
       "      <th></th>\n",
       "      <th>nzgd_id</th>\n",
       "      <th>spt_borehole_diameter_for_vs30_calculation</th>\n",
       "      <th>vs30</th>\n",
       "      <th>vs30_stddev</th>\n",
       "      <th>spt_vs30_calculation_used_efficiency</th>\n",
       "      <th>spt_vs30_calculation_used_soil_info</th>\n",
       "      <th>borehole_file</th>\n",
       "      <th>spt_efficiency</th>\n",
       "      <th>spt_borehole_diameter</th>\n",
       "      <th>measured_gwl</th>\n",
       "      <th>...</th>\n",
       "      <th>hammer_type</th>\n",
       "      <th>region</th>\n",
       "      <th>district</th>\n",
       "      <th>city</th>\n",
       "      <th>suburb</th>\n",
       "      <th>deepest_depth</th>\n",
       "      <th>shallowest_depth</th>\n",
       "      <th>record_name</th>\n",
       "      <th>vs30_log_residual</th>\n",
       "      <th>gwl_residual</th>\n",
       "    </tr>\n",
       "  </thead>\n",
       "  <tbody>\n",
       "    <tr>\n",
       "      <th>0</th>\n",
       "      <td>14810</td>\n",
       "      <td>150.0</td>\n",
       "      <td>216.479501</td>\n",
       "      <td>4.310376</td>\n",
       "      <td>0</td>\n",
       "      <td>0</td>\n",
       "      <td>Borehole_14810_AGS01.ags</td>\n",
       "      <td>None</td>\n",
       "      <td>None</td>\n",
       "      <td>None</td>\n",
       "      <td>...</td>\n",
       "      <td>Auto</td>\n",
       "      <td>Canterbury</td>\n",
       "      <td>Christchurch_City</td>\n",
       "      <td>Christchurch</td>\n",
       "      <td>Belfast</td>\n",
       "      <td>15.0</td>\n",
       "      <td>1.0</td>\n",
       "      <td>BH_14810</td>\n",
       "      <td>-0.014485</td>\n",
       "      <td>NaN</td>\n",
       "    </tr>\n",
       "    <tr>\n",
       "      <th>1</th>\n",
       "      <td>14810</td>\n",
       "      <td>150.0</td>\n",
       "      <td>209.681191</td>\n",
       "      <td>4.294176</td>\n",
       "      <td>0</td>\n",
       "      <td>0</td>\n",
       "      <td>Borehole_14810_AGS01.ags</td>\n",
       "      <td>None</td>\n",
       "      <td>None</td>\n",
       "      <td>None</td>\n",
       "      <td>...</td>\n",
       "      <td>Safety</td>\n",
       "      <td>Canterbury</td>\n",
       "      <td>Christchurch_City</td>\n",
       "      <td>Christchurch</td>\n",
       "      <td>Belfast</td>\n",
       "      <td>15.0</td>\n",
       "      <td>1.0</td>\n",
       "      <td>BH_14810</td>\n",
       "      <td>-0.046393</td>\n",
       "      <td>NaN</td>\n",
       "    </tr>\n",
       "    <tr>\n",
       "      <th>2</th>\n",
       "      <td>14810</td>\n",
       "      <td>150.0</td>\n",
       "      <td>193.369746</td>\n",
       "      <td>4.253128</td>\n",
       "      <td>0</td>\n",
       "      <td>0</td>\n",
       "      <td>Borehole_14810_AGS01.ags</td>\n",
       "      <td>None</td>\n",
       "      <td>None</td>\n",
       "      <td>None</td>\n",
       "      <td>...</td>\n",
       "      <td>Standard</td>\n",
       "      <td>Canterbury</td>\n",
       "      <td>Christchurch_City</td>\n",
       "      <td>Christchurch</td>\n",
       "      <td>Belfast</td>\n",
       "      <td>15.0</td>\n",
       "      <td>1.0</td>\n",
       "      <td>BH_14810</td>\n",
       "      <td>-0.127377</td>\n",
       "      <td>NaN</td>\n",
       "    </tr>\n",
       "    <tr>\n",
       "      <th>3</th>\n",
       "      <td>14810</td>\n",
       "      <td>150.0</td>\n",
       "      <td>186.863819</td>\n",
       "      <td>0.045925</td>\n",
       "      <td>0</td>\n",
       "      <td>0</td>\n",
       "      <td>Borehole_14810_AGS01.ags</td>\n",
       "      <td>None</td>\n",
       "      <td>None</td>\n",
       "      <td>None</td>\n",
       "      <td>...</td>\n",
       "      <td>Auto</td>\n",
       "      <td>Canterbury</td>\n",
       "      <td>Christchurch_City</td>\n",
       "      <td>Christchurch</td>\n",
       "      <td>Belfast</td>\n",
       "      <td>15.0</td>\n",
       "      <td>1.0</td>\n",
       "      <td>BH_14810</td>\n",
       "      <td>-0.161601</td>\n",
       "      <td>NaN</td>\n",
       "    </tr>\n",
       "    <tr>\n",
       "      <th>4</th>\n",
       "      <td>14810</td>\n",
       "      <td>150.0</td>\n",
       "      <td>181.068634</td>\n",
       "      <td>0.045925</td>\n",
       "      <td>0</td>\n",
       "      <td>0</td>\n",
       "      <td>Borehole_14810_AGS01.ags</td>\n",
       "      <td>None</td>\n",
       "      <td>None</td>\n",
       "      <td>None</td>\n",
       "      <td>...</td>\n",
       "      <td>Safety</td>\n",
       "      <td>Canterbury</td>\n",
       "      <td>Christchurch_City</td>\n",
       "      <td>Christchurch</td>\n",
       "      <td>Belfast</td>\n",
       "      <td>15.0</td>\n",
       "      <td>1.0</td>\n",
       "      <td>BH_14810</td>\n",
       "      <td>-0.193105</td>\n",
       "      <td>NaN</td>\n",
       "    </tr>\n",
       "  </tbody>\n",
       "</table>\n",
       "<p>5 rows × 31 columns</p>\n",
       "</div>"
      ],
      "text/plain": [
       "   nzgd_id  spt_borehole_diameter_for_vs30_calculation        vs30  \\\n",
       "0    14810                                       150.0  216.479501   \n",
       "1    14810                                       150.0  209.681191   \n",
       "2    14810                                       150.0  193.369746   \n",
       "3    14810                                       150.0  186.863819   \n",
       "4    14810                                       150.0  181.068634   \n",
       "\n",
       "   vs30_stddev  spt_vs30_calculation_used_efficiency  \\\n",
       "0     4.310376                                     0   \n",
       "1     4.294176                                     0   \n",
       "2     4.253128                                     0   \n",
       "3     0.045925                                     0   \n",
       "4     0.045925                                     0   \n",
       "\n",
       "   spt_vs30_calculation_used_soil_info             borehole_file  \\\n",
       "0                                    0  Borehole_14810_AGS01.ags   \n",
       "1                                    0  Borehole_14810_AGS01.ags   \n",
       "2                                    0  Borehole_14810_AGS01.ags   \n",
       "3                                    0  Borehole_14810_AGS01.ags   \n",
       "4                                    0  Borehole_14810_AGS01.ags   \n",
       "\n",
       "  spt_efficiency spt_borehole_diameter measured_gwl  ... hammer_type  \\\n",
       "0           None                  None         None  ...        Auto   \n",
       "1           None                  None         None  ...      Safety   \n",
       "2           None                  None         None  ...    Standard   \n",
       "3           None                  None         None  ...        Auto   \n",
       "4           None                  None         None  ...      Safety   \n",
       "\n",
       "       region           district          city   suburb deepest_depth  \\\n",
       "0  Canterbury  Christchurch_City  Christchurch  Belfast          15.0   \n",
       "1  Canterbury  Christchurch_City  Christchurch  Belfast          15.0   \n",
       "2  Canterbury  Christchurch_City  Christchurch  Belfast          15.0   \n",
       "3  Canterbury  Christchurch_City  Christchurch  Belfast          15.0   \n",
       "4  Canterbury  Christchurch_City  Christchurch  Belfast          15.0   \n",
       "\n",
       "   shallowest_depth  record_name  vs30_log_residual  gwl_residual  \n",
       "0               1.0     BH_14810          -0.014485           NaN  \n",
       "1               1.0     BH_14810          -0.046393           NaN  \n",
       "2               1.0     BH_14810          -0.127377           NaN  \n",
       "3               1.0     BH_14810          -0.161601           NaN  \n",
       "4               1.0     BH_14810          -0.193105           NaN  \n",
       "\n",
       "[5 rows x 31 columns]"
      ]
     },
     "metadata": {},
     "output_type": "display_data"
    }
   ],
   "source": [
    "nzgd_id_for_spt_vs30 = 14810\n",
    "\n",
    "if conn:\n",
    "    spt_vs30_df = query.spt_vs30s_for_one_nzgd_id(selected_nzgd_id=nzgd_id_for_spt_vs30, conn=conn)\n",
    "    if not spt_vs30_df.empty:\n",
    "        display(spt_vs30_df.head())\n",
    "    else:\n",
    "        print(f\"No SPT Vs30s found for NZGD ID {nzgd_id_for_spt_vs30}.\")\n",
    "else:\n",
    "    print(\"Database connection is not established.\")"
   ]
  },
  {
   "cell_type": "markdown",
   "id": "1ee7167d",
   "metadata": {},
   "source": [
    "### Example 6: Get All Estimated Vs30s Given Specific Correlations\n",
    "\n",
    "Please refer to [available_options.md](./available_options.md) to see the available correlation options.\n",
    "\n"
   ]
  },
  {
   "cell_type": "code",
   "execution_count": 10,
   "id": "189721f4",
   "metadata": {},
   "outputs": [
    {
     "name": "stdout",
     "output_type": "stream",
     "text": [
      "Time to extract CPT Vs30s and metadata from SQLite: 0.40 s\n",
      "Time to extract SPT Vs30s and metadata from SQLite: 0.03 s\n"
     ]
    },
    {
     "data": {
      "application/vnd.microsoft.datawrangler.viewer.v0+json": {
       "columns": [
        {
         "name": "index",
         "rawType": "int64",
         "type": "integer"
        },
        {
         "name": "cpt_id",
         "rawType": "float64",
         "type": "float"
        },
        {
         "name": "nzgd_id",
         "rawType": "int64",
         "type": "integer"
        },
        {
         "name": "vs30",
         "rawType": "float64",
         "type": "float"
        },
        {
         "name": "vs30_stddev",
         "rawType": "float64",
         "type": "float"
        },
        {
         "name": "type_prefix",
         "rawType": "object",
         "type": "string"
        },
        {
         "name": "original_reference",
         "rawType": "object",
         "type": "string"
        },
        {
         "name": "investigation_date",
         "rawType": "object",
         "type": "string"
        },
        {
         "name": "published_date",
         "rawType": "object",
         "type": "string"
        },
        {
         "name": "latitude",
         "rawType": "float64",
         "type": "float"
        },
        {
         "name": "longitude",
         "rawType": "float64",
         "type": "float"
        },
        {
         "name": "model_vs30_foster_2019",
         "rawType": "float64",
         "type": "float"
        },
        {
         "name": "model_vs30_stddev_foster_2019",
         "rawType": "float64",
         "type": "float"
        },
        {
         "name": "model_gwl_westerhoff_2019",
         "rawType": "float64",
         "type": "float"
        },
        {
         "name": "cpt_tip_net_area_ratio",
         "rawType": "float64",
         "type": "float"
        },
        {
         "name": "measured_gwl",
         "rawType": "float64",
         "type": "float"
        },
        {
         "name": "deepest_depth",
         "rawType": "float64",
         "type": "float"
        },
        {
         "name": "shallowest_depth",
         "rawType": "float64",
         "type": "float"
        },
        {
         "name": "region",
         "rawType": "object",
         "type": "string"
        },
        {
         "name": "district",
         "rawType": "object",
         "type": "string"
        },
        {
         "name": "suburb",
         "rawType": "object",
         "type": "string"
        },
        {
         "name": "city",
         "rawType": "object",
         "type": "string"
        },
        {
         "name": "record_name",
         "rawType": "object",
         "type": "string"
        },
        {
         "name": "vs30_log_residual",
         "rawType": "float64",
         "type": "float"
        },
        {
         "name": "gwl_residual",
         "rawType": "float64",
         "type": "float"
        },
        {
         "name": "spt_efficiency",
         "rawType": "float64",
         "type": "float"
        },
        {
         "name": "spt_borehole_diameter",
         "rawType": "object",
         "type": "unknown"
        },
        {
         "name": "type_number_code",
         "rawType": "int64",
         "type": "integer"
        }
       ],
       "ref": "d94e6507-4560-468c-80f9-eb11b2e9de16",
       "rows": [
        [
         "0",
         "0.0",
         "1",
         "278.2437222991522",
         "0.014691",
         "CPT",
         "CPT-ARN-01",
         "2010-11-19",
         "2012-06-13",
         "-43.521205605",
         "172.708811478",
         "219.36679",
         "0.23338781",
         "4.740685939788818",
         null,
         "1.0",
         "26.04",
         "0.0",
         "Canterbury",
         "Christchurch_City",
         "Aranui",
         "Christchurch",
         "CPT_1",
         "0.2377522595140249",
         "-3.7406859397888184",
         null,
         null,
         "0"
        ],
        [
         "1",
         "1.0",
         "2",
         "274.74682569970923",
         "0.0",
         "CPT",
         "CPT-ARN-02",
         "2010-11-19",
         "2012-06-13",
         "-43.512666081",
         "172.705790668",
         "212.95607",
         "0.22608781",
         "3.0343728065490723",
         null,
         "2.0",
         "40.54",
         "0.0",
         "Canterbury",
         "Christchurch_City",
         "Aranui",
         "Christchurch",
         "CPT_2",
         "0.2547641394970137",
         "-1.0343728065490723",
         null,
         null,
         "0"
        ],
        [
         "2",
         "2.0",
         "3",
         "250.001972495283",
         "0.0027355",
         "CPT",
         "CPT-ARN-03",
         "2010-11-19",
         "2012-06-13",
         "-43.512320932",
         "172.70938025",
         "200.45496",
         "0.28172687",
         "3.3374271392822266",
         null,
         "1.3",
         "30.0",
         "0.0",
         "Canterbury",
         "Christchurch_City",
         "Aranui",
         "Christchurch",
         "CPT_3",
         "0.2208792247046052",
         "-2.0374271392822267",
         null,
         null,
         "0"
        ],
        [
         "3",
         "3.0",
         "4",
         "248.62956890743692",
         "0.0",
         "CPT",
         "CPT-ARN-04",
         "2010-11-19",
         "2012-06-13",
         "-43.511632793",
         "172.712159892",
         "202.46294",
         "0.2767879",
         "2.7326292991638184",
         null,
         "2.0",
         "39.25",
         "0.0",
         "Canterbury",
         "Christchurch_City",
         "Aranui",
         "Christchurch",
         "CPT_4",
         "0.20540725625478107",
         "-0.7326292991638184",
         null,
         null,
         "0"
        ],
        [
         "4",
         "4.0",
         "5",
         null,
         null,
         "CPT",
         "CPT-ARN-05",
         "2010-11-19",
         "2012-06-13",
         "-43.51026226",
         "172.714002306",
         "206.29742",
         "0.26824972",
         "2.625690221786499",
         null,
         "2.0",
         "0.78",
         "0.0",
         "Canterbury",
         "Christchurch_City",
         "Aranui",
         "Christchurch",
         "CPT_5",
         null,
         "-0.625690221786499",
         null,
         null,
         "0"
        ]
       ],
       "shape": {
        "columns": 27,
        "rows": 5
       }
      },
      "text/html": [
       "<div>\n",
       "<style scoped>\n",
       "    .dataframe tbody tr th:only-of-type {\n",
       "        vertical-align: middle;\n",
       "    }\n",
       "\n",
       "    .dataframe tbody tr th {\n",
       "        vertical-align: top;\n",
       "    }\n",
       "\n",
       "    .dataframe thead th {\n",
       "        text-align: right;\n",
       "    }\n",
       "</style>\n",
       "<table border=\"1\" class=\"dataframe\">\n",
       "  <thead>\n",
       "    <tr style=\"text-align: right;\">\n",
       "      <th></th>\n",
       "      <th>cpt_id</th>\n",
       "      <th>nzgd_id</th>\n",
       "      <th>vs30</th>\n",
       "      <th>vs30_stddev</th>\n",
       "      <th>type_prefix</th>\n",
       "      <th>original_reference</th>\n",
       "      <th>investigation_date</th>\n",
       "      <th>published_date</th>\n",
       "      <th>latitude</th>\n",
       "      <th>longitude</th>\n",
       "      <th>...</th>\n",
       "      <th>region</th>\n",
       "      <th>district</th>\n",
       "      <th>suburb</th>\n",
       "      <th>city</th>\n",
       "      <th>record_name</th>\n",
       "      <th>vs30_log_residual</th>\n",
       "      <th>gwl_residual</th>\n",
       "      <th>spt_efficiency</th>\n",
       "      <th>spt_borehole_diameter</th>\n",
       "      <th>type_number_code</th>\n",
       "    </tr>\n",
       "  </thead>\n",
       "  <tbody>\n",
       "    <tr>\n",
       "      <th>0</th>\n",
       "      <td>0.0</td>\n",
       "      <td>1</td>\n",
       "      <td>278.243722</td>\n",
       "      <td>0.014691</td>\n",
       "      <td>CPT</td>\n",
       "      <td>CPT-ARN-01</td>\n",
       "      <td>2010-11-19</td>\n",
       "      <td>2012-06-13</td>\n",
       "      <td>-43.521206</td>\n",
       "      <td>172.708811</td>\n",
       "      <td>...</td>\n",
       "      <td>Canterbury</td>\n",
       "      <td>Christchurch_City</td>\n",
       "      <td>Aranui</td>\n",
       "      <td>Christchurch</td>\n",
       "      <td>CPT_1</td>\n",
       "      <td>0.237752</td>\n",
       "      <td>-3.740686</td>\n",
       "      <td>NaN</td>\n",
       "      <td>NaN</td>\n",
       "      <td>0</td>\n",
       "    </tr>\n",
       "    <tr>\n",
       "      <th>1</th>\n",
       "      <td>1.0</td>\n",
       "      <td>2</td>\n",
       "      <td>274.746826</td>\n",
       "      <td>0.000000</td>\n",
       "      <td>CPT</td>\n",
       "      <td>CPT-ARN-02</td>\n",
       "      <td>2010-11-19</td>\n",
       "      <td>2012-06-13</td>\n",
       "      <td>-43.512666</td>\n",
       "      <td>172.705791</td>\n",
       "      <td>...</td>\n",
       "      <td>Canterbury</td>\n",
       "      <td>Christchurch_City</td>\n",
       "      <td>Aranui</td>\n",
       "      <td>Christchurch</td>\n",
       "      <td>CPT_2</td>\n",
       "      <td>0.254764</td>\n",
       "      <td>-1.034373</td>\n",
       "      <td>NaN</td>\n",
       "      <td>NaN</td>\n",
       "      <td>0</td>\n",
       "    </tr>\n",
       "    <tr>\n",
       "      <th>2</th>\n",
       "      <td>2.0</td>\n",
       "      <td>3</td>\n",
       "      <td>250.001972</td>\n",
       "      <td>0.002736</td>\n",
       "      <td>CPT</td>\n",
       "      <td>CPT-ARN-03</td>\n",
       "      <td>2010-11-19</td>\n",
       "      <td>2012-06-13</td>\n",
       "      <td>-43.512321</td>\n",
       "      <td>172.709380</td>\n",
       "      <td>...</td>\n",
       "      <td>Canterbury</td>\n",
       "      <td>Christchurch_City</td>\n",
       "      <td>Aranui</td>\n",
       "      <td>Christchurch</td>\n",
       "      <td>CPT_3</td>\n",
       "      <td>0.220879</td>\n",
       "      <td>-2.037427</td>\n",
       "      <td>NaN</td>\n",
       "      <td>NaN</td>\n",
       "      <td>0</td>\n",
       "    </tr>\n",
       "    <tr>\n",
       "      <th>3</th>\n",
       "      <td>3.0</td>\n",
       "      <td>4</td>\n",
       "      <td>248.629569</td>\n",
       "      <td>0.000000</td>\n",
       "      <td>CPT</td>\n",
       "      <td>CPT-ARN-04</td>\n",
       "      <td>2010-11-19</td>\n",
       "      <td>2012-06-13</td>\n",
       "      <td>-43.511633</td>\n",
       "      <td>172.712160</td>\n",
       "      <td>...</td>\n",
       "      <td>Canterbury</td>\n",
       "      <td>Christchurch_City</td>\n",
       "      <td>Aranui</td>\n",
       "      <td>Christchurch</td>\n",
       "      <td>CPT_4</td>\n",
       "      <td>0.205407</td>\n",
       "      <td>-0.732629</td>\n",
       "      <td>NaN</td>\n",
       "      <td>NaN</td>\n",
       "      <td>0</td>\n",
       "    </tr>\n",
       "    <tr>\n",
       "      <th>4</th>\n",
       "      <td>4.0</td>\n",
       "      <td>5</td>\n",
       "      <td>NaN</td>\n",
       "      <td>NaN</td>\n",
       "      <td>CPT</td>\n",
       "      <td>CPT-ARN-05</td>\n",
       "      <td>2010-11-19</td>\n",
       "      <td>2012-06-13</td>\n",
       "      <td>-43.510262</td>\n",
       "      <td>172.714002</td>\n",
       "      <td>...</td>\n",
       "      <td>Canterbury</td>\n",
       "      <td>Christchurch_City</td>\n",
       "      <td>Aranui</td>\n",
       "      <td>Christchurch</td>\n",
       "      <td>CPT_5</td>\n",
       "      <td>NaN</td>\n",
       "      <td>-0.625690</td>\n",
       "      <td>NaN</td>\n",
       "      <td>NaN</td>\n",
       "      <td>0</td>\n",
       "    </tr>\n",
       "  </tbody>\n",
       "</table>\n",
       "<p>5 rows × 27 columns</p>\n",
       "</div>"
      ],
      "text/plain": [
       "   cpt_id  nzgd_id        vs30  vs30_stddev type_prefix original_reference  \\\n",
       "0     0.0        1  278.243722     0.014691         CPT         CPT-ARN-01   \n",
       "1     1.0        2  274.746826     0.000000         CPT         CPT-ARN-02   \n",
       "2     2.0        3  250.001972     0.002736         CPT         CPT-ARN-03   \n",
       "3     3.0        4  248.629569     0.000000         CPT         CPT-ARN-04   \n",
       "4     4.0        5         NaN          NaN         CPT         CPT-ARN-05   \n",
       "\n",
       "  investigation_date published_date   latitude   longitude  ...      region  \\\n",
       "0         2010-11-19     2012-06-13 -43.521206  172.708811  ...  Canterbury   \n",
       "1         2010-11-19     2012-06-13 -43.512666  172.705791  ...  Canterbury   \n",
       "2         2010-11-19     2012-06-13 -43.512321  172.709380  ...  Canterbury   \n",
       "3         2010-11-19     2012-06-13 -43.511633  172.712160  ...  Canterbury   \n",
       "4         2010-11-19     2012-06-13 -43.510262  172.714002  ...  Canterbury   \n",
       "\n",
       "            district  suburb          city  record_name  vs30_log_residual  \\\n",
       "0  Christchurch_City  Aranui  Christchurch        CPT_1           0.237752   \n",
       "1  Christchurch_City  Aranui  Christchurch        CPT_2           0.254764   \n",
       "2  Christchurch_City  Aranui  Christchurch        CPT_3           0.220879   \n",
       "3  Christchurch_City  Aranui  Christchurch        CPT_4           0.205407   \n",
       "4  Christchurch_City  Aranui  Christchurch        CPT_5                NaN   \n",
       "\n",
       "   gwl_residual spt_efficiency spt_borehole_diameter type_number_code  \n",
       "0     -3.740686            NaN                   NaN                0  \n",
       "1     -1.034373            NaN                   NaN                0  \n",
       "2     -2.037427            NaN                   NaN                0  \n",
       "3     -0.732629            NaN                   NaN                0  \n",
       "4     -0.625690            NaN                   NaN                0  \n",
       "\n",
       "[5 rows x 27 columns]"
      ]
     },
     "metadata": {},
     "output_type": "display_data"
    }
   ],
   "source": [
    "vs30_corr = \"boore_2004\"\n",
    "cpt_vs_corr = \"andrus_2007_pleistocene\"\n",
    "spt_vs_corr = \"brandenberg_2010\"\n",
    "hammer = \"Auto\"\n",
    "\n",
    "if conn:\n",
    "\n",
    "    all_vs30_data_df = query.all_vs30s_given_correlations(\n",
    "        selected_vs_to_vs30_correlation=vs30_corr,\n",
    "        selected_cpt_to_vs_correlation=cpt_vs_corr,\n",
    "        selected_spt_to_vs_correlation=spt_vs_corr,\n",
    "        selected_hammer_type=hammer,\n",
    "        conn=conn\n",
    "    )\n",
    "    if not all_vs30_data_df.empty:\n",
    "        display(all_vs30_data_df.head())\n",
    "    else:\n",
    "        print(\"No Vs30 data found for the given correlations.\")\n",
    "else:\n",
    "    print(\"Database connection is not established.\")"
   ]
  },
  {
   "cell_type": "markdown",
   "id": "c0224565",
   "metadata": {},
   "source": [
    "## Closing the Connection\n",
    "\n",
    "Finally, it's important to close the database connection when you're done with it to free up system resources."
   ]
  },
  {
   "cell_type": "code",
   "execution_count": 11,
   "id": "2a05fb8f",
   "metadata": {},
   "outputs": [
    {
     "name": "stdout",
     "output_type": "stream",
     "text": [
      "\n",
      "Database connection closed.\n"
     ]
    }
   ],
   "source": [
    "if conn: # if a connection exists\n",
    "    conn.close()\n",
    "    print(\"\\nDatabase connection closed.\")\n",
    "else:\n",
    "    print(\"No database connection to close.\")"
   ]
  }
 ],
 "metadata": {
  "kernelspec": {
   "display_name": "test_venv2",
   "language": "python",
   "name": "python3"
  },
  "language_info": {
   "codemirror_mode": {
    "name": "ipython",
    "version": 3
   },
   "file_extension": ".py",
   "mimetype": "text/x-python",
   "name": "python",
   "nbconvert_exporter": "python",
   "pygments_lexer": "ipython3",
   "version": "3.12.3"
  }
 },
 "nbformat": 4,
 "nbformat_minor": 5
}
