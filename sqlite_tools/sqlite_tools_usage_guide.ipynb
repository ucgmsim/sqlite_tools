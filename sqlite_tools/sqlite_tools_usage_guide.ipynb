{
 "cells": [
  {
   "cell_type": "markdown",
   "id": "67ac6123",
   "metadata": {},
   "source": [
    "# Using `sqlite_tools` to Query NZGD-style Databases\n",
    "\n",
    "This notebook demonstrates how to interact with an NZGD-style SQLite database using Python. We'll cover:\n",
    "1.  Connecting to an SQLite database.\n",
    "2.  Basic SQLite query structure.\n",
    "3.  Executing simple example queries.\n",
    "4.  Using the functions provided in the `sqlite_tools.query_sqlite_db` module to extract specific geotechnical datasets."
   ]
  },
  {
   "cell_type": "markdown",
   "id": "ee4961a2",
   "metadata": {},
   "source": [
    "## 1. Accessing SQLite Database from Python\n",
    "\n",
    "Python's built-in `sqlite3` module allows us to connect to and interact with SQLite databases. \n",
    "\n",
    "First, you need to import the necessary libraries: `sqlite3` for database interaction, `pathlib` for handling file paths, and `pandas` for working with data in DataFrames. If you plan to use the `sqlite_tools` package, you'll import its functions as well."
   ]
  },
  {
   "cell_type": "code",
   "execution_count": null,
   "id": "1a487a15",
   "metadata": {},
   "outputs": [],
   "source": [
    "import sqlite3\n",
    "from pathlib import Path\n",
    "\n",
    "import pandas as pd\n",
    "\n",
    "# Import the query functions from your sqlite_tools package\n",
    "# This assumes your package is installed or your PYTHONPATH is set up correctly.\n",
    "# If running this notebook from within the sqlite_tools project root, \n",
    "# you might need to adjust the import path or ensure the package is installed in editable mode (pip install -e .)\n",
    "from sqlite_tools import query"
   ]
  },
  {
   "cell_type": "markdown",
   "id": "d88de7e5",
   "metadata": {},
   "source": [
    "Next, specify the path to your SQLite database file. **Remember to replace `\"/path/to/your/nzgd_database.db\"` with the actual path to your database file.**"
   ]
  },
  {
   "cell_type": "code",
   "execution_count": null,
   "id": "aac68f2f",
   "metadata": {},
   "outputs": [],
   "source": [
    "# Define the path to your SQLite database\n",
    "# !!! IMPORTANT: Replace this with the actual path to your database file !!!\n",
    "db_file_path = Path(\"/path/to/your/nzgd_database.db\")\n",
    "\n",
    "# Establish a database connection\n",
    "# It's good practice to use a try/except/finally block to ensure the connection is closed.\n",
    "conn = None  # Initialize conn to None\n",
    "try:\n",
    "    if not db_file_path.exists():\n",
    "        print(f\"Database file not found at: {db_file_path}\")\n",
    "        print(\"Please update the `db_file_path` variable in the cell above.\")\n",
    "        # In a real script, you might raise FileNotFoundError or exit\n",
    "    else:\n",
    "        conn = sqlite3.connect(db_file_path)\n",
    "        print(f\"Successfully connected to {db_file_path}\")\n",
    "\n",
    "except sqlite3.Error as e:\n",
    "    print(f\"Database error: {e}\")\n",
    "except Exception as e:\n",
    "    print(f\"An unexpected error occurred: {e}\")\n",
    "\n",
    "# Note: The connection `conn` will be used in subsequent cells.\n",
    "# We will close it at the end of the notebook."
   ]
  },
  {
   "cell_type": "markdown",
   "id": "9214e59d",
   "metadata": {},
   "source": [
    "## 2. Understanding SQLite Query Structure\n",
    "\n",
    "SQL (Structured Query Language) is used to communicate with databases. SQLite uses a dialect of SQL. Here are some common clauses:\n",
    "\n",
    "*   **`SELECT column1, column2, ... FROM table_name`**: This is the most fundamental clause. It retrieves specified columns from a table.\n",
    "    *   `SELECT * FROM table_name` selects all columns.\n",
    "*   **`WHERE condition`**: Filters records based on a specific condition. \n",
    "    *   Example: `WHERE age > 30` or `WHERE name = 'Alice'`.\n",
    "*   **`JOIN another_table ON table_name.column_name = another_table.column_name`**: Combines rows from two or more tables based on a related column between them.\n",
    "    *   Common types: `INNER JOIN` (default), `LEFT JOIN`.\n",
    "*   **`ORDER BY column_name [ASC|DESC]`**: Sorts the result set by one or more columns, either in ascending (`ASC`, default) or descending (`DESC`) order.\n",
    "*   **`LIMIT number`**: Restricts the number of rows returned by the query.\n",
    "*   **`GROUP BY column_name`**: Groups rows that have the same values in specified columns into summary rows. Often used with aggregate functions like `COUNT()`, `MAX()`, `MIN()`, `SUM()`, `AVG()`.\n",
    "\n",
    "**Example of a more complex query structure:**\n",
    "\n",
    "```sql\n",
    "SELECT \n",
    "    t1.columnA, \n",
    "    t2.columnB, \n",
    "    COUNT(t1.id) as item_count\n",
    "FROM \n",
    "    table1 AS t1\n",
    "INNER JOIN \n",
    "    table2 AS t2 ON t1.common_id = t2.common_id\n",
    "WHERE \n",
    "    t1.status = 'active' AND t2.category = 'electronics'\n",
    "GROUP BY \n",
    "    t1.columnA, t2.columnB\n",
    "ORDER BY \n",
    "    item_count DESC\n",
    "LIMIT 10;\n",
    "```\n",
    "This query selects data from `table1` and `table2`, filters it, groups it, counts items, orders the result, and limits it to the top 10."
   ]
  },
  {
   "cell_type": "markdown",
   "id": "3a936d90",
   "metadata": {},
   "source": [
    "## 3. Simple Example Queries\n",
    "\n",
    "Let's run some simple queries directly using `pandas.read_sql_query()` and our active connection `conn`.\n",
    "\n",
    "**Make sure you have successfully connected to your database in Cell 2 before running these examples.**\n",
    "\n",
    "First, let's see a list of all tables in the database."
   ]
  },
  {
   "cell_type": "code",
   "execution_count": null,
   "id": "675ab5fc",
   "metadata": {},
   "outputs": [],
   "source": [
    "if conn:\n",
    "    try:\n",
    "        # Query to get all table names from the SQLite master table\n",
    "        tables_df = pd.read_sql_query(\"SELECT name FROM sqlite_master WHERE type='table';\", conn)\n",
    "        print(\"Tables in the database:\")\n",
    "        print(tables_df)\n",
    "    except Exception as e:\n",
    "        print(f\"An error occurred: {e}\")\n",
    "else:\n",
    "    print(\"Database connection is not established. Please check the connection cell (Cell 2).\")"
   ]
  },
  {
   "cell_type": "markdown",
   "id": "87817275",
   "metadata": {},
   "source": [
    "Now, let's try to select a few rows from a specific table. You'll need to **replace `'your_table_name'` with an actual table name** from the list printed above. For example, if you have a table named `nzgdrecord`, you would use that."
   ]
  },
  {
   "cell_type": "code",
   "execution_count": null,
   "id": "38afb79a",
   "metadata": {},
   "outputs": [],
   "source": [
    "# !!! IMPORTANT: Replace 'your_table_name' with an actual table name from your database !!!\n",
    "table_to_query = 'nzgdrecord' # Example: use 'cptreport' or 'sptreport' or another table\n",
    "\n",
    "if conn:\n",
    "    try:\n",
    "        print(f\"\\n--- First 5 rows from '{table_to_query}' table ---\")\n",
    "        # Query to select all columns for the first 5 rows from the specified table\n",
    "        query = f\"SELECT * FROM {table_to_query} LIMIT 5;\"\n",
    "        sample_data_df = pd.read_sql_query(query, conn)\n",
    "        display(sample_data_df) # display() is a Jupyter function for rich display\n",
    "    except pd.io.sql.DatabaseError as e:\n",
    "        print(f\"Database error (perhaps '{table_to_query}' doesn't exist or is misspelled?): {e}\")\n",
    "    except Exception as e:\n",
    "        print(f\"An error occurred: {e}\")\n",
    "else:\n",
    "    print(\"Database connection is not established. Please check the connection cell (Cell 2).\")"
   ]
  },
  {
   "cell_type": "markdown",
   "id": "1427b6f7",
   "metadata": {},
   "source": [
    "Let's try a query with a `WHERE` clause. We'll query the `nzgdrecord` table for records with a specific `nzgd_id`. \n",
    "**Replace `123` with an `nzgd_id` that you expect to be in your database.**"
   ]
  },
  {
   "cell_type": "code",
   "execution_count": null,
   "id": "62205c78",
   "metadata": {},
   "outputs": [],
   "source": [
    "# !!! IMPORTANT: Replace 123 with an nzgd_id you know exists in your database !!!\n",
    "example_nzgd_id = 1 # Try an ID like 1, 2, 3, etc.\n",
    "\n",
    "if conn:\n",
    "    try:\n",
    "        print(f\"\\n--- Record from 'nzgdrecord' with nzgd_id = {example_nzgd_id} ---\")\n",
    "        query = \"SELECT * FROM nzgdrecord WHERE nzgd_id = ?;\"\n",
    "        # Using a parameterized query (? placeholder) is safer against SQL injection\n",
    "        record_df = pd.read_sql_query(query, conn, params=(example_nzgd_id,))\n",
    "        if not record_df.empty:\n",
    "            display(record_df)\n",
    "        else:\n",
    "            print(f\"No record found with nzgd_id = {example_nzgd_id}.\")\n",
    "    except Exception as e:\n",
    "        print(f\"An error occurred: {e}\")\n",
    "else:\n",
    "    print(\"Database connection is not established. Please check the connection cell (Cell 2).\")"
   ]
  },
  {
   "cell_type": "markdown",
   "id": "e1a7f5be",
   "metadata": {},
   "source": [
    "## 4. Using Functions from `sqlite_tools.query_sqlite_db`\n",
    "\n",
    "The `sqlite_tools` package provides pre-built functions to easily extract common datasets. These functions encapsulate more complex SQL queries.\n",
    "\n",
    "**Ensure your database connection (`conn`) is active from Cell 2.**"
   ]
  },
  {
   "cell_type": "markdown",
   "id": "c890fbc6",
   "metadata": {},
   "source": [
    "### Example 1: Get CPT Measurements for a specific NZGD ID"
   ]
  },
  {
   "cell_type": "code",
   "execution_count": null,
   "id": "2a604e41",
   "metadata": {},
   "outputs": [],
   "source": [
    "# !!! IMPORTANT: Replace 1 with an nzgd_id for which you expect CPT data !!!\n",
    "nzgd_id_for_cpt = 1 \n",
    "\n",
    "if conn:\n",
    "    try:\n",
    "        print(f\"\\n--- CPT Measurements (NZGD ID {nzgd_id_for_cpt}) ---\")\n",
    "        cpt_df = query.cpt_measurements_for_one_nzgd(selected_nzgd_id=nzgd_id_for_cpt, conn=conn)\n",
    "        if not cpt_df.empty:\n",
    "            display(cpt_df.head())\n",
    "        else:\n",
    "            print(f\"No CPT measurements found for NZGD ID {nzgd_id_for_cpt}.\")\n",
    "    except Exception as e:\n",
    "        print(f\"An error occurred while fetching CPT measurements: {e}\")\n",
    "else:\n",
    "    print(\"Database connection is not established.\")"
   ]
  },
  {
   "cell_type": "markdown",
   "id": "4b43d2ec",
   "metadata": {},
   "source": [
    "### Example 2: Get SPT Measurements for a specific NZGD ID"
   ]
  },
  {
   "cell_type": "code",
   "execution_count": null,
   "id": "96fbe208",
   "metadata": {},
   "outputs": [],
   "source": [
    "# !!! IMPORTANT: Replace 2 with an nzgd_id for which you expect SPT data !!!\n",
    "nzgd_id_for_spt = 2 \n",
    "\n",
    "if conn:\n",
    "    try:\n",
    "        print(f\"\\n--- SPT Measurements (NZGD ID {nzgd_id_for_spt}) ---\")\n",
    "        spt_df = query.spt_measurements_for_one_nzgd(selected_nzgd_id=nzgd_id_for_spt, conn=conn)\n",
    "        if not spt_df.empty:\n",
    "            display(spt_df.head())\n",
    "        else:\n",
    "            print(f\"No SPT measurements found for NZGD ID {nzgd_id_for_spt}.\")\n",
    "    except Exception as e:\n",
    "        print(f\"An error occurred while fetching SPT measurements: {e}\")\n",
    "else:\n",
    "    print(\"Database connection is not established.\")"
   ]
  },
  {
   "cell_type": "markdown",
   "id": "ca4056bc",
   "metadata": {},
   "source": [
    "### Example 3: Get SPT Soil Types for a specific NZGD ID"
   ]
  },
  {
   "cell_type": "code",
   "execution_count": null,
   "id": "e10890a6",
   "metadata": {},
   "outputs": [],
   "source": [
    "# !!! IMPORTANT: Replace 3 with an nzgd_id for which you expect SPT soil type data !!!\n",
    "nzgd_id_for_spt_soil = 3\n",
    "\n",
    "if conn:\n",
    "    try:\n",
    "        print(f\"\\n--- SPT Soil Types (NZGD ID {nzgd_id_for_spt_soil}) ---\")\n",
    "        spt_soil_df = query.spt_soil_types_for_one_nzgd(selected_nzgd_id=nzgd_id_for_spt_soil, conn=conn)\n",
    "        if not spt_soil_df.empty:\n",
    "            display(spt_soil_df.head())\n",
    "        else:\n",
    "            print(f\"No SPT soil types found for NZGD ID {nzgd_id_for_spt_soil}.\")\n",
    "    except Exception as e:\n",
    "        print(f\"An error occurred while fetching SPT soil types: {e}\")\n",
    "else:\n",
    "    print(\"Database connection is not established.\")"
   ]
  },
  {
   "cell_type": "markdown",
   "id": "8cd7dcb4",
   "metadata": {},
   "source": [
    "### Example 4: Get CPT Vs30 Estimates for a specific NZGD ID"
   ]
  },
  {
   "cell_type": "code",
   "execution_count": null,
   "id": "c14ddccc",
   "metadata": {},
   "outputs": [],
   "source": [
    "# !!! IMPORTANT: Replace 4 with an nzgd_id for which you expect CPT Vs30 data !!!\n",
    "nzgd_id_for_cpt_vs30 = 4\n",
    "\n",
    "if conn:\n",
    "    try:\n",
    "        print(f\"\\n--- CPT Vs30s (NZGD ID {nzgd_id_for_cpt_vs30}) ---\")\n",
    "        cpt_vs30_df = query.cpt_vs30s_for_one_nzgd_id(selected_nzgd_id=nzgd_id_for_cpt_vs30, conn=conn)\n",
    "        if not cpt_vs30_df.empty:\n",
    "            display(cpt_vs30_df.head())\n",
    "        else:\n",
    "            print(f\"No CPT Vs30s found for NZGD ID {nzgd_id_for_cpt_vs30}.\")\n",
    "    except Exception as e:\n",
    "        print(f\"An error occurred while fetching CPT Vs30s: {e}\")\n",
    "else:\n",
    "    print(\"Database connection is not established.\")"
   ]
  },
  {
   "cell_type": "markdown",
   "id": "da9c1900",
   "metadata": {},
   "source": [
    "### Example 5: Get SPT Vs30 Estimates for a specific NZGD ID"
   ]
  },
  {
   "cell_type": "code",
   "execution_count": null,
   "id": "65070294",
   "metadata": {},
   "outputs": [],
   "source": [
    "# !!! IMPORTANT: Replace 5 with an nzgd_id for which you expect SPT Vs30 data !!!\n",
    "nzgd_id_for_spt_vs30 = 5\n",
    "\n",
    "if conn:\n",
    "    try:\n",
    "        print(f\"\\n--- SPT Vs30s (NZGD ID {nzgd_id_for_spt_vs30}) ---\")\n",
    "        spt_vs30_df = query.spt_vs30s_for_one_nzgd_id(selected_nzgd_id=nzgd_id_for_spt_vs30, conn=conn)\n",
    "        if not spt_vs30_df.empty:\n",
    "            display(spt_vs30_df.head())\n",
    "        else:\n",
    "            print(f\"No SPT Vs30s found for NZGD ID {nzgd_id_for_spt_vs30}.\")\n",
    "    except Exception as e:\n",
    "        print(f\"An error occurred while fetching SPT Vs30s: {e}\")\n",
    "else:\n",
    "    print(\"Database connection is not established.\")"
   ]
  },
  {
   "cell_type": "markdown",
   "id": "1ee7167d",
   "metadata": {},
   "source": [
    "### Example 6: Get All Vs30s Given Specific Correlations\n",
    "\n",
    "This function is more complex as it requires specific correlation names that exist in your database tables (`vstovs30correlation`, `cpttovscorrelation`, `spttovscorrelation`, `spttovs30hammertype`). \n",
    "\n",
    "**You will likely need to inspect your database to find valid names for these parameters.** The example values below are placeholders."
   ]
  },
  {
   "cell_type": "code",
   "execution_count": null,
   "id": "189721f4",
   "metadata": {},
   "outputs": [],
   "source": [
    "# !!! IMPORTANT: Replace these with actual correlation and hammer type names from your database !!!\n",
    "vs30_corr = \"McGann, Bradley, Cubrinovski et al. (2015)\"  # Check your vstovs30correlation table\n",
    "cpt_vs_corr = \"Robertson (2009)\"  # Check your cpttovscorrelation table\n",
    "spt_vs_corr = \"Ohta & Goto (1978)\"    # Check your spttovscorrelation table\n",
    "hammer = \"Safety Hammer\"         # Check your spttovs30hammertype table (e.g., \"Donut Hammer\", \"Unknown\")\n",
    "\n",
    "if conn:\n",
    "    try:\n",
    "        print(\"\\n--- All Vs30s (Specific Correlations) ---\")\n",
    "        all_vs30_data_df = query.all_vs30s_given_correlations(\n",
    "            selected_vs30_correlation=vs30_corr,\n",
    "            selected_cpt_to_vs_correlation=cpt_vs_corr,\n",
    "            selected_spt_to_vs_correlation=spt_vs_corr,\n",
    "            selected_hammer_type=hammer,\n",
    "            conn=conn\n",
    "        )\n",
    "        if not all_vs30_data_df.empty:\n",
    "            display(all_vs30_data_df.head())\n",
    "        else:\n",
    "            print(\"No Vs30 data found for the given correlation combination. \\n\"\n",
    "                  \"Please check that the correlation names and hammer type exist in the database \\n\"\n",
    "                  \"and that there are precomputed Vs30 estimates for this combination.\")\n",
    "    except ValueError as e:\n",
    "        print(f\"ValueError: {e}. This often means one of the correlation names was not found in the database tables.\")\n",
    "        print(\"Please check the names in `vstovs30correlation`, `cpttovscorrelation`, `spttovscorrelation`, and `spttovs30hammertype` tables.\")\n",
    "    except Exception as e:\n",
    "        print(f\"An error occurred while fetching all Vs30s: {e}\")\n",
    "else:\n",
    "    print(\"Database connection is not established.\")"
   ]
  },
  {
   "cell_type": "markdown",
   "id": "c0224565",
   "metadata": {},
   "source": [
    "## Closing the Connection\n",
    "\n",
    "Finally, it's important to close the database connection when you're done with it to free up resources."
   ]
  },
  {
   "cell_type": "code",
   "execution_count": null,
   "id": "2a05fb8f",
   "metadata": {},
   "outputs": [],
   "source": [
    "if conn:\n",
    "    try:\n",
    "        conn.close()\n",
    "        print(\"\\nDatabase connection closed.\")\n",
    "        conn = None # Set to None to indicate it's closed\n",
    "    except Exception as e:\n",
    "        print(f\"Error closing connection: {e}\")"
   ]
  }
 ],
 "metadata": {
  "language_info": {
   "name": "python"
  }
 },
 "nbformat": 4,
 "nbformat_minor": 5
}
